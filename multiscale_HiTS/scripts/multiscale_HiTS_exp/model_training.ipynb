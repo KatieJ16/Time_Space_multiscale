{
 "cells": [
  {
   "cell_type": "markdown",
   "metadata": {},
   "source": [
    "## Train ResNets"
   ]
  },
  {
   "cell_type": "markdown",
   "metadata": {},
   "source": [
    "### created by Yuying Liu, 04/30/2020"
   ]
  },
  {
   "cell_type": "markdown",
   "metadata": {},
   "source": [
    "This script is a template for training neural network time-steppers for different systems and different time scales. To reproduce the results in the paper, one needs to obtain all 11 neural network models for each nonlinear system under study. For setup details, please refer to Table 2 in the paper."
   ]
  },
  {
   "cell_type": "code",
   "execution_count": 1,
   "metadata": {},
   "outputs": [],
   "source": [
    "import os\n",
    "import sys\n",
    "import torch\n",
    "import numpy as np\n",
    "\n",
    "import matplotlib.pyplot as plt\n",
    "module_path = os.path.abspath(os.path.join('../../src/'))\n",
    "if module_path not in sys.path:\n",
    "    sys.path.append(module_path)\n",
    "    \n",
    "import ResNet as net"
   ]
  },
  {
   "cell_type": "code",
   "execution_count": 2,
   "metadata": {},
   "outputs": [],
   "source": [
    "# adjustables\n",
    "\n",
    "t = np.linspace(0, 8*np.pi, 500)\n",
    "k = 0                         # model index: should be in {0, 2, ..., 10}\n",
    "dt = t[1] - t[0]#0.01# 0.0005                     # time unit: 0.0005 for Lorenz and 0.01 for others\n",
    "system = 'toy1'         # system name: 'Hyperbolic', 'Cubic', 'VanDerPol', 'Hopf' or 'Lorenz'\n",
    "noise = 0.0                   # noise percentage: 0.00, 0.01 or 0.02\n",
    "\n",
    "lr = 1e-3                     # learning rate\n",
    "max_epoch = 100000            # the maximum training epoch \n",
    "batch_size = 320              # training batch size\n",
    "arch = [4, 128, 128, 128, 4]  # architecture of the neural network"
   ]
  },
  {
   "cell_type": "code",
   "execution_count": 3,
   "metadata": {},
   "outputs": [],
   "source": [
    "# paths\n",
    "data_dir = os.path.join('../../data/', system)\n",
    "model_dir = os.path.join('../../models/', system)\n",
    "\n",
    "# global const\n",
    "n_forward = 5\n",
    "step_size = 2**k"
   ]
  },
  {
   "cell_type": "code",
   "execution_count": 4,
   "metadata": {},
   "outputs": [
    {
     "name": "stdout",
     "output_type": "stream",
     "text": [
      "(75, 500, 4)\n",
      "(15, 500, 4)\n",
      "(10, 500, 4)\n",
      "75\n",
      "15\n",
      "10\n",
      "[[1.65509105 1.73043919 1.58637822 1.65509105]\n",
      " [1.65484369 1.73016787 1.58615255 1.65484369]\n",
      " [1.65410161 1.72935414 1.58547592 1.65410161]\n",
      " ...\n",
      " [1.65410161 1.72935414 1.58547592 1.65410161]\n",
      " [1.65484369 1.73016787 1.58615255 1.65484369]\n",
      " [1.65509105 1.73043919 1.58637822 1.65509105]]\n",
      "step_size*n_forward+1 =  6\n",
      "step_size*n_forward+1 =  6\n"
     ]
    },
    {
     "name": "stderr",
     "output_type": "stream",
     "text": [
      "C:\\Users\\16kat\\anaconda3\\lib\\site-packages\\torch\\cuda\\__init__.py:52: UserWarning: CUDA initialization: Found no NVIDIA driver on your system. Please check that you have an NVIDIA GPU and installed a driver from http://www.nvidia.com/Download/index.aspx (Triggered internally at  ..\\c10\\cuda\\CUDAFunctions.cpp:100.)\n",
      "  return torch._C._cuda_getDeviceCount() > 0\n"
     ]
    }
   ],
   "source": [
    "# load data\n",
    "data = np.load(os.path.join(data_dir, \"train_data.npy\"))#inputs_2x2.npy\"))#'train_noise{}.npy'.format(noise)))\n",
    "\n",
    "# print(np.load(\"../../data/Hyperbolic/train_noise0.0.npy\").shape)\n",
    "# data = np.expand_dims(data, 1)\n",
    "train_data = data[:75]\n",
    "val_data = data[75:90]\n",
    "test_data = data[90:]\n",
    "# val_data = np.load(os.path.join(data_dir, 'val_noise{}.npy'.format(noise)))\n",
    "# test_data = np.load(os.path.join(data_dir, 'test_noise{}.npy'.format(noise)))\n",
    "print(train_data.shape)\n",
    "print(val_data.shape)\n",
    "print(test_data.shape)\n",
    "n_train = train_data.shape[0]\n",
    "n_val = val_data.shape[0]\n",
    "n_test = test_data.shape[0]\n",
    "print(n_train)\n",
    "print(n_val)\n",
    "print(n_test)\n",
    "\n",
    "print(train_data[0,:,:])\n",
    "\n",
    "print(\"step_size*n_forward+1 = \", step_size*n_forward+1)\n",
    "print(\"step_size*n_forward+1 = \", step_size*n_forward+1)\n",
    "# create dataset object\n",
    "dataset = net.DataSet(train_data, val_data, test_data, dt, step_size, n_forward)"
   ]
  },
  {
   "cell_type": "code",
   "execution_count": 5,
   "metadata": {},
   "outputs": [
    {
     "ename": "IndexError",
     "evalue": "index 75 is out of bounds for axis 0 with size 75",
     "output_type": "error",
     "traceback": [
      "\u001b[1;31m---------------------------------------------------------------------------\u001b[0m",
      "\u001b[1;31mIndexError\u001b[0m                                Traceback (most recent call last)",
      "\u001b[1;32m<ipython-input-5-d8b1340e9f40>\u001b[0m in \u001b[0;36m<module>\u001b[1;34m\u001b[0m\n\u001b[0;32m      1\u001b[0m \u001b[1;32mfor\u001b[0m \u001b[0mi\u001b[0m \u001b[1;32min\u001b[0m \u001b[0mrange\u001b[0m\u001b[1;33m(\u001b[0m\u001b[1;36m100\u001b[0m\u001b[1;33m)\u001b[0m\u001b[1;33m:\u001b[0m\u001b[1;33m\u001b[0m\u001b[1;33m\u001b[0m\u001b[0m\n\u001b[1;32m----> 2\u001b[1;33m     \u001b[0mplt\u001b[0m\u001b[1;33m.\u001b[0m\u001b[0mplot\u001b[0m\u001b[1;33m(\u001b[0m\u001b[0mtrain_data\u001b[0m\u001b[1;33m[\u001b[0m\u001b[0mi\u001b[0m\u001b[1;33m,\u001b[0m\u001b[1;33m:\u001b[0m\u001b[1;33m,\u001b[0m\u001b[1;36m0\u001b[0m\u001b[1;33m]\u001b[0m\u001b[1;33m,\u001b[0m \u001b[0mtrain_data\u001b[0m\u001b[1;33m[\u001b[0m\u001b[0mi\u001b[0m\u001b[1;33m,\u001b[0m\u001b[1;33m:\u001b[0m\u001b[1;33m,\u001b[0m\u001b[1;36m1\u001b[0m\u001b[1;33m]\u001b[0m\u001b[1;33m,\u001b[0m \u001b[1;34m'b'\u001b[0m\u001b[1;33m)\u001b[0m\u001b[1;33m\u001b[0m\u001b[1;33m\u001b[0m\u001b[0m\n\u001b[0m",
      "\u001b[1;31mIndexError\u001b[0m: index 75 is out of bounds for axis 0 with size 75"
     ]
    },
    {
     "data": {
      "image/png": "[encoded data removed]",
      "text/plain": [
       "<Figure size 432x288 with 1 Axes>"
      ]
     },
     "metadata": {
      "needs_background": "light"
     },
     "output_type": "display_data"
    }
   ],
   "source": [
    "for i in range(100):\n",
    "    plt.plot(train_data[i,:,0], train_data[i,:,1], 'b')"
   ]
  },
  {
   "cell_type": "code",
   "execution_count": 7,
   "metadata": {},
   "outputs": [
    {
     "name": "stdout",
     "output_type": "stream",
     "text": [
      "k =  2\n",
      "torch.Size([75, 4])\n",
      "create model model_D4_noise0.0_0.pt ...\n",
      "self.n_dim=  4\n",
      "dataset.n_dim =  4\n",
      "epoch 1000, training loss 0.02707066386938095, validation loss 0.016816485673189163\n",
      "(--> new model saved @ epoch 1000)\n",
      "epoch 2000, training loss 0.02314790152013302, validation loss 0.017457518726587296\n",
      "epoch 3000, training loss 0.01839704066514969, validation loss 0.01554041262716055\n",
      "(--> new model saved @ epoch 3000)\n",
      "epoch 4000, training loss 0.025591034442186356, validation loss 0.01909712888300419\n",
      "epoch 5000, training loss 0.029506918042898178, validation loss 0.027479693293571472\n",
      "epoch 6000, training loss 0.02377093955874443, validation loss 0.016731631010770798\n",
      "epoch 7000, training loss 0.019063271582126617, validation loss 0.017341965809464455\n",
      "epoch 8000, training loss 0.019028738141059875, validation loss 0.019361726939678192\n",
      "epoch 9000, training loss 0.015002816915512085, validation loss 0.01491491962224245\n",
      "(--> new model saved @ epoch 9000)\n",
      "epoch 10000, training loss 0.010902684181928635, validation loss 0.010629008524119854\n",
      "(--> new model saved @ epoch 10000)\n",
      "epoch 11000, training loss 0.010925867594778538, validation loss 0.012634758837521076\n",
      "epoch 12000, training loss 0.016461081802845, validation loss 0.01875443197786808\n",
      "epoch 13000, training loss 0.020080268383026123, validation loss 0.020042601972818375\n",
      "epoch 14000, training loss 0.020594384521245956, validation loss 0.024358315393328667\n",
      "epoch 15000, training loss 0.016428053379058838, validation loss 0.01734151691198349\n",
      "epoch 16000, training loss 0.01844150200486183, validation loss 0.021294154226779938\n",
      "epoch 17000, training loss 0.018679160624742508, validation loss 0.0163112785667181\n",
      "epoch 18000, training loss 0.01762155257165432, validation loss 0.014161125756800175\n",
      "epoch 19000, training loss 0.015339760109782219, validation loss 0.0133485347032547\n",
      "epoch 20000, training loss 0.01731981337070465, validation loss 0.011786977760493755\n",
      "epoch 21000, training loss 0.00875330250710249, validation loss 0.007696724031120539\n",
      "(--> new model saved @ epoch 21000)\n",
      "epoch 22000, training loss 0.020397190004587173, validation loss 0.016951847821474075\n",
      "epoch 23000, training loss 0.011985218152403831, validation loss 0.009435460902750492\n",
      "epoch 24000, training loss 0.02315654046833515, validation loss 0.021623199805617332\n",
      "epoch 25000, training loss 0.025972232222557068, validation loss 0.020634252578020096\n",
      "epoch 26000, training loss 0.01285678893327713, validation loss 0.010216322727501392\n",
      "epoch 27000, training loss 0.011255663819611073, validation loss 0.013314422219991684\n",
      "epoch 28000, training loss 0.020977716892957687, validation loss 0.014803461730480194\n",
      "epoch 29000, training loss 0.018421132117509842, validation loss 0.01047899667173624\n",
      "epoch 30000, training loss 0.02406161278486252, validation loss 0.027900636196136475\n",
      "k =  3\n",
      "torch.Size([75, 4])\n",
      "create model model_D8_noise0.0_0.pt ...\n",
      "self.n_dim=  4\n",
      "dataset.n_dim =  4\n",
      "epoch 1000, training loss 0.09498582780361176, validation loss 0.08179448544979095\n",
      "(--> new model saved @ epoch 1000)\n",
      "epoch 2000, training loss 0.11315065622329712, validation loss 0.042231235653162\n",
      "(--> new model saved @ epoch 2000)\n",
      "epoch 3000, training loss 0.06689802557229996, validation loss 0.05283627659082413\n",
      "epoch 4000, training loss 0.06195623800158501, validation loss 0.05560038238763809\n",
      "epoch 5000, training loss 0.07921102643013, validation loss 0.04597984626889229\n",
      "epoch 6000, training loss 0.04514274746179581, validation loss 0.034787602722644806\n",
      "(--> new model saved @ epoch 6000)\n",
      "epoch 7000, training loss 0.06058726832270622, validation loss 0.03329022228717804\n",
      "(--> new model saved @ epoch 7000)\n",
      "epoch 8000, training loss 0.044436339288949966, validation loss 0.027750032022595406\n",
      "(--> new model saved @ epoch 8000)\n",
      "epoch 9000, training loss 0.05638003721833229, validation loss 0.048977598547935486\n",
      "epoch 10000, training loss 0.035064321011304855, validation loss 0.02580670267343521\n",
      "(--> new model saved @ epoch 10000)\n",
      "epoch 11000, training loss 0.08062397688627243, validation loss 0.06371457129716873\n",
      "epoch 12000, training loss 0.0708855465054512, validation loss 0.060032278299331665\n",
      "epoch 13000, training loss 0.052591077983379364, validation loss 0.04535221308469772\n",
      "epoch 14000, training loss 0.042141612619161606, validation loss 0.024573808535933495\n",
      "(--> new model saved @ epoch 14000)\n",
      "epoch 15000, training loss 0.057065561413764954, validation loss 0.045743681490421295\n",
      "epoch 16000, training loss 0.07168422639369965, validation loss 0.04706837981939316\n",
      "epoch 17000, training loss 0.046021394431591034, validation loss 0.028557494282722473\n",
      "epoch 18000, training loss 0.04388701543211937, validation loss 0.026351232081651688\n",
      "epoch 19000, training loss 0.06448948383331299, validation loss 0.027566947042942047\n",
      "epoch 20000, training loss 0.07201126962900162, validation loss 0.05986058712005615\n",
      "epoch 21000, training loss 0.06260140240192413, validation loss 0.045838601887226105\n",
      "epoch 22000, training loss 0.040372416377067566, validation loss 0.03563494607806206\n",
      "epoch 23000, training loss 0.040752608329057693, validation loss 0.027995392680168152\n",
      "epoch 24000, training loss 0.029297683387994766, validation loss 0.020368652418255806\n",
      "(--> new model saved @ epoch 24000)\n",
      "epoch 25000, training loss 0.08860906958580017, validation loss 0.04541720077395439\n",
      "epoch 26000, training loss 0.048369262367486954, validation loss 0.04377107322216034\n",
      "epoch 27000, training loss 0.046401940286159515, validation loss 0.030021337792277336\n",
      "epoch 28000, training loss 0.058715030550956726, validation loss 0.04780304431915283\n",
      "epoch 29000, training loss 0.04144228249788284, validation loss 0.041717901825904846\n",
      "epoch 30000, training loss 0.05396348983049393, validation loss 0.04272959381341934\n",
      "k =  4\n",
      "torch.Size([75, 4])\n",
      "create model model_D16_noise0.0_0.pt ...\n",
      "self.n_dim=  4\n",
      "dataset.n_dim =  4\n",
      "epoch 1000, training loss 0.17395035922527313, validation loss 0.13425935804843903\n",
      "(--> new model saved @ epoch 1000)\n",
      "epoch 2000, training loss 0.13623176515102386, validation loss 0.12107402831315994\n",
      "(--> new model saved @ epoch 2000)\n",
      "epoch 3000, training loss 0.15971286594867706, validation loss 0.1228824257850647\n",
      "epoch 4000, training loss 0.1641894280910492, validation loss 0.10902541130781174\n",
      "(--> new model saved @ epoch 4000)\n",
      "epoch 5000, training loss 0.14139167964458466, validation loss 0.11172215640544891\n",
      "epoch 6000, training loss 0.17716839909553528, validation loss 0.15265873074531555\n",
      "epoch 7000, training loss 0.1283809095621109, validation loss 0.11275293678045273\n",
      "epoch 8000, training loss 0.1268843114376068, validation loss 0.0945478081703186\n",
      "(--> new model saved @ epoch 8000)\n",
      "epoch 9000, training loss 0.1352766752243042, validation loss 0.11811020970344543\n",
      "epoch 10000, training loss 0.132991224527359, validation loss 0.11071769893169403\n",
      "epoch 11000, training loss 0.15093834698200226, validation loss 0.13327552378177643\n",
      "epoch 12000, training loss 0.13268442451953888, validation loss 0.12940341234207153\n",
      "epoch 13000, training loss 0.18567557632923126, validation loss 0.13838958740234375\n",
      "epoch 14000, training loss 0.13674582540988922, validation loss 0.0933513268828392\n",
      "(--> new model saved @ epoch 14000)\n",
      "epoch 15000, training loss 0.18237122893333435, validation loss 0.14377285540103912\n",
      "epoch 16000, training loss 0.18042154610157013, validation loss 0.13977977633476257\n",
      "epoch 17000, training loss 0.15146055817604065, validation loss 0.07654321938753128\n",
      "(--> new model saved @ epoch 17000)\n",
      "epoch 18000, training loss 0.10730581730604172, validation loss 0.06650576740503311\n",
      "(--> new model saved @ epoch 18000)\n",
      "epoch 19000, training loss 0.0781455859541893, validation loss 0.05671966075897217\n",
      "(--> new model saved @ epoch 19000)\n",
      "epoch 20000, training loss 0.13611280918121338, validation loss 0.06140824779868126\n",
      "epoch 21000, training loss 0.11117701977491379, validation loss 0.07352397590875626\n",
      "epoch 22000, training loss 0.10538405179977417, validation loss 0.07013911008834839\n",
      "epoch 23000, training loss 0.09737114608287811, validation loss 0.0765458270907402\n",
      "epoch 24000, training loss 0.17953971028327942, validation loss 0.1294538974761963\n",
      "epoch 25000, training loss 0.13814705610275269, validation loss 0.1409005969762802\n"
     ]
    },
    {
     "name": "stdout",
     "output_type": "stream",
     "text": [
      "epoch 26000, training loss 0.1540994644165039, validation loss 0.10081202536821365\n",
      "epoch 27000, training loss 0.14612990617752075, validation loss 0.13641373813152313\n",
      "epoch 28000, training loss 0.14703361690044403, validation loss 0.12155406922101974\n",
      "epoch 29000, training loss 0.14932742714881897, validation loss 0.13731727004051208\n",
      "epoch 30000, training loss 0.09523860365152359, validation loss 0.0704936757683754\n",
      "k =  5\n",
      "torch.Size([75, 4])\n",
      "create model model_D32_noise0.0_0.pt ...\n",
      "self.n_dim=  4\n",
      "dataset.n_dim =  4\n",
      "epoch 1000, training loss 0.15984828770160675, validation loss 0.1325707584619522\n",
      "(--> new model saved @ epoch 1000)\n",
      "epoch 2000, training loss 0.13462845981121063, validation loss 0.09043938666582108\n",
      "(--> new model saved @ epoch 2000)\n",
      "epoch 3000, training loss 0.11945127695798874, validation loss 0.10309130698442459\n",
      "epoch 4000, training loss 0.11737742274999619, validation loss 0.08436296880245209\n",
      "(--> new model saved @ epoch 4000)\n",
      "epoch 5000, training loss 0.16416583955287933, validation loss 0.15592101216316223\n",
      "epoch 6000, training loss 0.17940238118171692, validation loss 0.22993314266204834\n",
      "epoch 7000, training loss 0.11445485800504684, validation loss 0.08713862299919128\n",
      "epoch 8000, training loss 0.10815998166799545, validation loss 0.07807023078203201\n",
      "(--> new model saved @ epoch 8000)\n",
      "epoch 9000, training loss 0.10926685482263565, validation loss 0.0881858542561531\n",
      "epoch 10000, training loss 0.10910248011350632, validation loss 0.05941307544708252\n",
      "(--> new model saved @ epoch 10000)\n",
      "epoch 11000, training loss 0.110987588763237, validation loss 0.10382236540317535\n",
      "epoch 12000, training loss 0.0989348515868187, validation loss 0.08173871040344238\n",
      "epoch 13000, training loss 0.10488639026880264, validation loss 0.08969203382730484\n",
      "epoch 14000, training loss 0.09606967866420746, validation loss 0.07127268612384796\n",
      "epoch 15000, training loss 0.11064409464597702, validation loss 0.08552302420139313\n",
      "epoch 16000, training loss 0.18936112523078918, validation loss 0.057023558765649796\n",
      "(--> new model saved @ epoch 16000)\n",
      "epoch 17000, training loss 0.1295836865901947, validation loss 0.09891577810049057\n",
      "epoch 18000, training loss 0.1345302164554596, validation loss 0.11391065269708633\n",
      "epoch 19000, training loss 0.10808251798152924, validation loss 0.08076287806034088\n",
      "epoch 20000, training loss 0.12397237122058868, validation loss 0.08317849785089493\n",
      "epoch 21000, training loss 0.12551474571228027, validation loss 0.08420327305793762\n",
      "epoch 22000, training loss 0.11181284487247467, validation loss 0.11200612038373947\n",
      "epoch 23000, training loss 0.16467660665512085, validation loss 0.13493385910987854\n",
      "epoch 24000, training loss 0.12045958638191223, validation loss 0.07644613087177277\n",
      "epoch 25000, training loss 0.0979103222489357, validation loss 0.07478021830320358\n",
      "epoch 26000, training loss 0.0919979065656662, validation loss 0.09420455247163773\n",
      "epoch 27000, training loss 0.12501108646392822, validation loss 0.09237053245306015\n",
      "epoch 28000, training loss 0.12280560284852982, validation loss 0.08060988038778305\n",
      "epoch 29000, training loss 0.11513007432222366, validation loss 0.07830516993999481\n",
      "epoch 30000, training loss 0.15213754773139954, validation loss 0.118291474878788\n"
     ]
    }
   ],
   "source": [
    "for k in [ 2, 3, 4, 5]:\n",
    "    print(\"k = \", k)\n",
    "    step_size = 2**k\n",
    "    dataset = net.DataSet(train_data, val_data, test_data, dt, step_size, n_forward)\n",
    "    print(dataset.train_x.shape)\n",
    "    model_name = 'model_D{}_noise{}_0.pt'.format(step_size, noise)\n",
    "\n",
    "    # create/load model object\n",
    "    try:\n",
    "        device = 'cuda' if torch.cuda.is_available() else 'cpu'\n",
    "        model = torch.load(os.path.join(model_dir, model_name), map_location=device)\n",
    "        model.device = device\n",
    "    except:\n",
    "        print('create model {} ...'.format(model_name))\n",
    "        model = net.ResNet(arch=arch, dt=dt, step_size=step_size)\n",
    "\n",
    "    # training\n",
    "    model.train_net(dataset, max_epoch=30000, batch_size=batch_size, lr=lr,\n",
    "                    model_path=os.path.join(model_dir, model_name))"
   ]
  },
  {
   "cell_type": "code",
   "execution_count": null,
   "metadata": {},
   "outputs": [],
   "source": [
    " \n",
    "\n",
    "."
   ]
  },
  {
   "cell_type": "code",
   "execution_count": null,
   "metadata": {},
   "outputs": [],
   "source": []
  },
  {
   "cell_type": "code",
   "execution_count": null,
   "metadata": {},
   "outputs": [],
   "source": []
  },
  {
   "cell_type": "code",
   "execution_count": null,
   "metadata": {},
   "outputs": [],
   "source": []
  },
  {
   "cell_type": "code",
   "execution_count": null,
   "metadata": {},
   "outputs": [],
   "source": []
  }
 ],
 "metadata": {
  "kernelspec": {
   "display_name": "Python 3",
   "language": "python",
   "name": "python3"
  },
  "language_info": {
   "codemirror_mode": {
    "name": "ipython",
    "version": 3
   },
   "file_extension": ".py",
   "mimetype": "text/x-python",
   "name": "python",
   "nbconvert_exporter": "python",
   "pygments_lexer": "ipython3",
   "version": "3.8.5"
  }
 },
 "nbformat": 4,
 "nbformat_minor": 2
}

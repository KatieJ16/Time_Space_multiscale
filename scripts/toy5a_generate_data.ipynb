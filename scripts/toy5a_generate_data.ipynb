{
 "cells": [
  {
   "cell_type": "markdown",
   "metadata": {},
   "source": [
    "# toy problem 5a lorenz"
   ]
  },
  {
   "cell_type": "markdown",
   "metadata": {},
   "source": [
    "## Generate data\n",
    "\n",
    "train_data size (100,500,128,128)\n",
    "\n",
    "validation size (10,500,128,128)\n",
    "\n",
    "test size (10,500,128,128)"
   ]
  },
  {
   "cell_type": "code",
   "execution_count": 27,
   "metadata": {},
   "outputs": [],
   "source": [
    "import os\n",
    "# import sys\n",
    "import numpy as np\n",
    "# import scipy as sp\n",
    "# from scipy import integrate\n",
    "from tqdm.notebook import tqdm\n",
    "import matplotlib.pyplot as plt\n",
    "import matplotlib.animation as animation\n",
    "import scipy as sp\n",
    "from scipy import integrate\n",
    "# from sklearn import preprocessing\n",
    "# import torch\n",
    "\n",
    "# module_path = os.path.abspath(os.path.join('../src/'))\n",
    "# if module_path not in sys.path:\n",
    "#     sys.path.append(module_path)\n",
    "    \n",
    "    \n",
    "# import utils"
   ]
  },
  {
   "cell_type": "code",
   "execution_count": 39,
   "metadata": {},
   "outputs": [],
   "source": [
    "# def u(x,y):\n",
    "#     muu = 128/2\n",
    "#     sigma = 10\n",
    "#     return np.cosh((x+muu)/sigma)*np.cosh((y+muu)/sigma)\n",
    "#     dst = np.sqrt(x*x+y*y)\n",
    "#     gauss = np.exp(-( (dst-muu)**2 / ( 2.0 * sigma**2 ) ) )\n",
    "#     return gauss\n",
    "\n",
    "# define two modes\n",
    "def u(x, y, t):\n",
    "    muu = 128/2\n",
    "    sigma = 30\n",
    "    return 4* (1/(np.sqrt(2*np.pi*sigma)) * np.exp(-((x-muu)**2 + (y-muu)**2)/(2*sigma**2)))*np.cos(w0*t)\n",
    "#     return 1./np.cosh((x-muu)/sigma)/np.cosh((y-muu)/sigma)*np.cos(w0*t)\n",
    "\n",
    "def v(x, y, t, lorenz_sol):\n",
    "    muu = 128/4\n",
    "    sigma = 5\n",
    "    return (1/(np.sqrt(2*np.pi*sigma)) * np.exp(-((x-muu)**2 + (y-muu)**2)/(2*sigma**2)))*lorenz_sol\n",
    "\n",
    "\n",
    "    \n",
    "def lorenz_rhs(x):\n",
    "    sigma = 10\n",
    "    rho = 28\n",
    "    beta = 8/3\n",
    "    warmup = 10000\n",
    "    n = 3\n",
    "    return np.array([sigma*(x[1]-x[0]), x[0]*(rho-x[2])-x[1], x[0]*x[1]-beta*x[2]])\n",
    "\n",
    "\n",
    "\n",
    "    \n",
    "def make_data(n_points, file_name, data_dir = './data/toy3a', n_time_steps = 500, dim = 128, w0=1.0, t_max=100):\n",
    "    \"\"\"\n",
    "    Makes data for toy2c\n",
    "    \n",
    "    Inputs:\n",
    "    n_points: int, how many data points \n",
    "    file_name: str, name of file to save\n",
    "    data_dir = './data/toy2': str, directory of where to store\n",
    "    n_time_steps = 500: int, how many time steps per data point\n",
    "    dim = 128: int, how many data points per dim, while be same in both x and y directions\n",
    "    w1 = 1.0: float, frequency of fast scale\n",
    "    t_max=100, amount of time to run your system for\n",
    "    \n",
    "    Output: \n",
    "    data: size (n_points,n_time_steps,dim, dim) will be returned and saved to file data_dir+file_name\n",
    "    \n",
    "    \"\"\"\n",
    "    print(width_small)\n",
    "    print(\"Making data\")\n",
    "    x = np.arange(dim)\n",
    "    y = np.arange(dim)\n",
    "    data = np.zeros((n_points, n_time_steps, dim, dim))\n",
    "    \n",
    "    #variable that we need for lorenz\n",
    "    # system\n",
    "    sigma = 10\n",
    "    rho = 28\n",
    "    beta = 8/3\n",
    "    warmup = 10000\n",
    "    n = 3\n",
    "\n",
    "\n",
    "    for i in tqdm(range(n_points)):\n",
    "        t_start = np.random.uniform(high=np.pi)\n",
    "        t = np.linspace(t_start, t_max + t_start, n_time_steps)\n",
    "        dt = t[1] - t[0]\n",
    "        print(\"dt = \", dt)\n",
    "        total_steps = len(t)\n",
    "        \n",
    "        print(\"min t = \", min(t))\n",
    "        print(\"max t = \", max(t))\n",
    "\n",
    "\n",
    "        xgrid, ygrid, tgrid = np.meshgrid(x, y, t)\n",
    "        \n",
    "        train_data = np.zeros((total_steps+1, n))\n",
    "        #set up and get the lorenze solution for the needed amount of timesteps\n",
    "        x_init = np.random.uniform(-0.1, 0.1, 3)\n",
    "#         sol = sp.integrate.solve_ivp(lambda _, x: lorenz_rhs(x), [0, warmup*dt], x_init, t_eval=pre_t)\n",
    "#         x_init = sol.y[:, -1].T\n",
    "        pre_t = np.linspace(0, warmup*dt, warmup+1)\n",
    "        sol = sp.integrate.solve_ivp(lambda _, x: lorenz_rhs(x), [0, warmup*dt], x_init, t_eval=pre_t)\n",
    "        lorenz_sol = sp.integrate.solve_ivp(lambda _, x: lorenz_rhs(x), [min(t), max(t)], x_init, t_eval=t)\n",
    "        x = lorenz_sol.y.T[:,0]\n",
    "        scaled_x = normalize(x)#(x - x.min())/(x.max() - x.min())\n",
    "        print(scaled_x.shape)\n",
    "#         print(lorenz_sol.y.T.shape)\n",
    "# #         plt.plot(lorenz_sol.y.T[:,0])\n",
    "#         plt.plot(scaled_x)\n",
    "#         ghjk\n",
    "        \n",
    "#         lorenz_sol[:, :] = sol.y.T\n",
    "        v_value = v(xgrid, ygrid, tgrid, scaled_x)\n",
    "        u_value = u(xgrid, ygrid, tgrid)\n",
    "        \n",
    "        print(v_value.shape)\n",
    "        print(u_value.shape)\n",
    "#         plt.plot(v_value[32,32:])\n",
    "#         plt.plot(u_value[32,32,:])\n",
    "        Phi = normalize(u_value) + normalize(v_value)\n",
    "#         plt.plot(Phi[32,32,:])\n",
    "        \n",
    "#         print(\"Phi shape = \", Phi.shape)\n",
    "#         ghj\n",
    "        \n",
    "\n",
    "#         Phi = np.cos(w0*tgrid)\n",
    "\n",
    "#         Phi[1:3, 0:2,:] = np.cos(w1*tgrid[1:3, 0:2,:]+np.pi/4)\n",
    "        scaled_Phi = (Phi.T - Phi.min()) / (Phi.max() - Phi.min())\n",
    "        print(\"scaled_Phi shape = \", scaled_Phi.shape) \n",
    "#         print(\"scaled_Phi shape = \", scaled_Phi.shape)\n",
    "#         plt.imshow(scaled_Phi[0])\n",
    "#         plt.colorbar()\n",
    "#         plt.show()\n",
    "#         hji\n",
    "        data[i] = scaled_Phi\n",
    "\n",
    "    print(\"making done, saving to \", os.path.join(data_dir, file_name))\n",
    "    np.save(os.path.join(data_dir, file_name), data)\n",
    "    print(\"done\")\n",
    "    \n",
    "    return data\n",
    "\n",
    "def normalize(x):\n",
    "    return (x - np.min(x))/(np.max(x) -np.min(x))"
   ]
  },
  {
   "cell_type": "code",
   "execution_count": 40,
   "metadata": {},
   "outputs": [
    {
     "name": "stdout",
     "output_type": "stream",
     "text": [
      "4.1887902047863905\n",
      "t_max =  33.510321638291124\n",
      "2\n",
      "Making data\n"
     ]
    },
    {
     "data": {
      "application/vnd.jupyter.widget-view+json": {
       "model_id": "e572c06ede214302bc8a9199618b0011",
       "version_major": 2,
       "version_minor": 0
      },
      "text/plain": [
       "  0%|          | 0/1 [00:00<?, ?it/s]"
      ]
     },
     "metadata": {},
     "output_type": "display_data"
    },
    {
     "name": "stdout",
     "output_type": "stream",
     "text": [
      "dt =  0.06715495318294806\n",
      "min t =  0.9931711405173516\n",
      "max t =  34.50349277880848\n",
      "(500,)\n",
      "(128, 128, 500)\n",
      "(128, 128, 500)\n",
      "scaled_Phi shape =  (500, 128, 128)\n",
      "making done, saving to  ../data/toy5a/train_data.npy\n",
      "done\n",
      "(1, 500, 128, 128)\n"
     ]
    },
    {
     "data": {
      "image/png": "[encoded data removed]",
      "text/plain": [
       "<Figure size 432x288 with 2 Axes>"
      ]
     },
     "metadata": {},
     "output_type": "display_data"
    }
   ],
   "source": [
    "n_train_points = 1\n",
    "n_val_points = 10\n",
    "n_test_points = 10\n",
    "n_time_steps = 500\n",
    "dim = 128\n",
    "width_small = 2#int(dim/2)\n",
    "\n",
    "# params\n",
    "\n",
    "#need to make dt much smaller for lorenz to be any good\n",
    "w0 = 1.5\n",
    "period = (2 * np.pi) / w0\n",
    "print(period)\n",
    "# width_small = 8\n",
    "num_periods_big = 8\n",
    "\n",
    "t_max = period * num_periods_big\n",
    "print(\"t_max = \", t_max)\n",
    "\n",
    "\n",
    "# paths\n",
    "data_dir = '../data/toy5a'\n",
    "result_dir = '../result/toy5a'\n",
    "\n",
    "\n",
    "x = np.arange(dim)\n",
    "y = np.arange(dim)\n",
    "train_data = make_data(n_train_points, 'train_data.npy', data_dir = data_dir,dim=dim,n_time_steps=n_time_steps, t_max=t_max) \n",
    "print(train_data.shape)\n",
    "plt.imshow(train_data[0,0])\n",
    "plt.colorbar()\n",
    "plt.show()\n",
    "# val_data = make_data(n_val_points, 'val_data.npy', data_dir = data_dir,width_small=width_small,dim=dim) \n",
    "# test_data = make_data(n_test_points, 'test_data.npy', data_dir=data_dir,width_small=width_small,dim=dim) \n",
    "\n"
   ]
  },
  {
   "cell_type": "code",
   "execution_count": 42,
   "metadata": {},
   "outputs": [
    {
     "name": "stdout",
     "output_type": "stream",
     "text": [
      "1.0\n"
     ]
    },
    {
     "data": {
      "image/png": "[encoded data removed]",
      "text/plain": [
       "<Figure size 432x288 with 1 Axes>"
      ]
     },
     "metadata": {},
     "output_type": "display_data"
    }
   ],
   "source": [
    "train_data.shape\n",
    "\n",
    "plt.plot(train_data[0,:,32,32])\n",
    "plt.plot(train_data[0,:,64,64])\n",
    "\n",
    "print(np.max(train_data))"
   ]
  },
  {
   "cell_type": "code",
   "execution_count": 7,
   "metadata": {},
   "outputs": [
    {
     "name": "stdout",
     "output_type": "stream",
     "text": [
      "(1, 500, 128, 128)\n"
     ]
    },
    {
     "ename": "IndexError",
     "evalue": "index 2 is out of bounds for axis 0 with size 1",
     "output_type": "error",
     "traceback": [
      "\u001b[0;31m---------------------------------------------------------------------------\u001b[0m",
      "\u001b[0;31mIndexError\u001b[0m                                Traceback (most recent call last)",
      "\u001b[0;32m<ipython-input-7-9795a266d92c>\u001b[0m in \u001b[0;36m<module>\u001b[0;34m()\u001b[0m\n\u001b[1;32m      1\u001b[0m \u001b[0mprint\u001b[0m\u001b[0;34m(\u001b[0m\u001b[0mtrain_data\u001b[0m\u001b[0;34m.\u001b[0m\u001b[0mshape\u001b[0m\u001b[0;34m)\u001b[0m\u001b[0;34m\u001b[0m\u001b[0;34m\u001b[0m\u001b[0m\n\u001b[0;32m----> 2\u001b[0;31m \u001b[0mplt\u001b[0m\u001b[0;34m.\u001b[0m\u001b[0mimshow\u001b[0m\u001b[0;34m(\u001b[0m\u001b[0mtrain_data\u001b[0m\u001b[0;34m[\u001b[0m\u001b[0;36m2\u001b[0m\u001b[0;34m,\u001b[0m\u001b[0;36m0\u001b[0m\u001b[0;34m]\u001b[0m\u001b[0;34m)\u001b[0m\u001b[0;34m\u001b[0m\u001b[0;34m\u001b[0m\u001b[0m\n\u001b[0m\u001b[1;32m      3\u001b[0m \u001b[0mplt\u001b[0m\u001b[0;34m.\u001b[0m\u001b[0mcolorbar\u001b[0m\u001b[0;34m(\u001b[0m\u001b[0;34m)\u001b[0m\u001b[0;34m\u001b[0m\u001b[0;34m\u001b[0m\u001b[0m\n",
      "\u001b[0;31mIndexError\u001b[0m: index 2 is out of bounds for axis 0 with size 1"
     ]
    }
   ],
   "source": [
    "print(train_data.shape)\n",
    "plt.imshow(train_data[2,0])\n",
    "plt.colorbar()"
   ]
  },
  {
   "cell_type": "code",
   "execution_count": null,
   "metadata": {},
   "outputs": [],
   "source": [
    "print(train_data.shape)\n",
    "mean_to_plot = np.mean(train_data[0], axis = (1,2)) \n",
    "# mean_to_plot = np.mean(train_data[0,:, :64,:64], axis = (1,2))\n",
    "print(mean_to_plot.shape)\n",
    "plt.plot(mean_to_plot)\n",
    "\n",
    "# mean_to_plot = np.mean(train_data[0], axis = (1,2))\n",
    "mean_to_plot = np.mean(train_data[0,:, :64,:64], axis = (1,2))\n",
    "print(mean_to_plot.shape)\n",
    "plt.plot(mean_to_plot)\n",
    "\n",
    "# # mean_to_plot = np.mean(train_data[0], axis = (1,2))\n",
    "# mean_to_plot = np.mean(train_data[0,:, :32,:32], axis = (1,2))\n",
    "# print(mean_to_plot.shape)\n",
    "# plt.plot(mean_to_plot)"
   ]
  },
  {
   "cell_type": "code",
   "execution_count": null,
   "metadata": {},
   "outputs": [],
   "source": [
    "def animate(snapshots, normalize = True, file_name = \"animation.gif\"):\n",
    "    \"\"\"\n",
    "    Makes an animation of snapshots in time\n",
    "    \n",
    "    inputs:\n",
    "    snapshots: np.array of size (n_time_steps,1, dim, dim)\n",
    "    normalize = True: whether to fix axis between 0 and 1 or not\n",
    "    file_name = \"animation.gif\": file name of where to save gif\n",
    "    \n",
    "    outputs:\n",
    "    no returned output\n",
    "    gif saved to file_name\n",
    "    \"\"\"\n",
    "\n",
    "\n",
    "    fps = 30\n",
    "    nSeconds = len(snapshots)/fps\n",
    "    \n",
    "    # First set up the figure, the axis, and the plot element we want to animate\n",
    "    fig = plt.figure( figsize=(8,8) )\n",
    "\n",
    "    a = snapshots[0,:,:,:][0]\n",
    "    if normalize:\n",
    "        im = plt.imshow(a, interpolation='none', aspect='auto', vmin=0.0, vmax=1.0)\n",
    "    else:\n",
    "        im = plt.imshow(a, interpolation='none', aspect='auto', vmin=np.min(snapshots), vmax=np.max(snapshots))\n",
    "    plt.colorbar()\n",
    "\n",
    "    print(\"Animating, may take a little while...\")\n",
    "\n",
    "    def animate_func(i):\n",
    "        if i % fps == 0:\n",
    "            print( '.', end ='' )\n",
    "\n",
    "        im.set_array(snapshots[i,:,:,:,][0])\n",
    "        return [im]\n",
    "\n",
    "    anim = animation.FuncAnimation(\n",
    "                                   fig,\n",
    "                                   animate_func,\n",
    "                                   frames = int(nSeconds * fps),\n",
    "                                   interval = 1000 / fps, # in ms\n",
    "                                   )\n",
    "    writergif = animation.PillowWriter(fps=30)\n",
    "    anim.save(file_name, writer=writergif)\n",
    "\n",
    "    print('Done! gif saved to ', file_name)\n"
   ]
  },
  {
   "cell_type": "code",
   "execution_count": 43,
   "metadata": {},
   "outputs": [
    {
     "name": "stdout",
     "output_type": "stream",
     "text": [
      "Animating, may take a little while...\n",
      "..................Done! gif saved to  ../result/toy5a/train_data.gif\n"
     ]
    },
    {
     "data": {
      "image/png": "[encoded data removed]",
      "text/plain": [
       "<Figure size 576x576 with 2 Axes>"
      ]
     },
     "metadata": {},
     "output_type": "display_data"
    }
   ],
   "source": [
    "animate(train_data[0].reshape(n_time_steps,1, dim, dim), file_name = os.path.join(result_dir,'train_data.gif'))"
   ]
  }
 ],
 "metadata": {
  "kernelspec": {
   "display_name": "Python 3",
   "language": "python",
   "name": "python3"
  },
  "language_info": {
   "codemirror_mode": {
    "name": "ipython",
    "version": 3
   },
   "file_extension": ".py",
   "mimetype": "text/x-python",
   "name": "python",
   "nbconvert_exporter": "python",
   "pygments_lexer": "ipython3",
   "version": "3.6.9"
  }
 },
 "nbformat": 4,
 "nbformat_minor": 4
}

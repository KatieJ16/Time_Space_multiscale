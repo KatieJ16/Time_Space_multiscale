{
 "cells": [
  {
   "cell_type": "markdown",
   "metadata": {},
   "source": [
    "## Toy Model 1: 2 spatial modes with different oscillating frequencies"
   ]
  },
  {
   "cell_type": "markdown",
   "metadata": {},
   "source": [
    "### Created by Yuying Liu, 09/23/2019"
   ]
  },
  {
   "cell_type": "markdown",
   "metadata": {},
   "source": [
    "$$\\Phi(x, t) = u(x)cos(\\omega_0 t) + v(x)cos(\\omega_1 t + \\frac{\\pi}{4})$$"
   ]
  },
  {
   "cell_type": "code",
   "execution_count": 1,
   "metadata": {},
   "outputs": [],
   "source": [
    "# imports\n",
    "import os\n",
    "import sys\n",
    "import torch\n",
    "import pickle\n",
    "import numpy as np\n",
    "import matplotlib.pyplot as plt\n",
    "from tqdm.notebook import tqdm\n",
    "import time\n",
    "\n",
    "module_path = os.path.abspath(os.path.join('../src/'))\n",
    "if module_path not in sys.path:\n",
    "    sys.path.append(module_path)\n",
    "    \n",
    "    \n",
    "import torch_cae_multilevel_V4 as net\n",
    "import ResNet as tnet\n",
    "import utils"
   ]
  },
  {
   "cell_type": "code",
   "execution_count": 12,
   "metadata": {},
   "outputs": [],
   "source": [
    "#helper functions\n",
    "\n",
    "def check_pixel_level_loss(d1, d2, tol, device, w=0.5):\n",
    "    \"\"\"\n",
    "    :param d1: data 1\n",
    "    :param d2: data 2\n",
    "    :param tol: a float, represent the tolerance\n",
    "    :param device: device\n",
    "    :param w: loss = w * mse_loss + (1 - w) * max_loss\n",
    "    :return: a boolean value, if error satisfies the tolerance,\n",
    "             a torch tensor of overall loss distribution,\n",
    "             and a boolean torch tensor\n",
    "    \"\"\"\n",
    "    assert isinstance(tol, float), print('tol should be a float!')\n",
    "\n",
    "    loss1 = torch.mean((d1 - d2)**2, dim=0, keepdim=True)\n",
    "    loss2 = torch.max((d1 - d2)**2, dim=0, keepdim=True)[0]\n",
    "    loss = w * loss1 + (1 - w) * loss2\n",
    "    loss_summary = apply_local_op(loss, device).squeeze()\n",
    "\n",
    "    return loss_summary.max() <= tol, loss_summary, loss_summary <= tol\n",
    "\n",
    "def obtain_data_at_current_level(data, n_levels, level,average = True):\n",
    "    \"\"\" goes from n_levels to level\"\"\"\n",
    "    for i in range(n_levels - level - 1):\n",
    "        data = apply_local_op(data, 'cpu', ave=average)\n",
    "    return data\n",
    "\n",
    "def decrease_to_size(data, level,average = True):\n",
    "    \"\"\" goes from n_levels to level\"\"\"\n",
    "    current_size = data.shape[-1]\n",
    "#     print(\"current_size = \", current_size)\n",
    "    if(current_size<= level):\n",
    "        return data\n",
    "    while(current_size > level):\n",
    "        data = apply_local_op(data.float(), 'cpu', ave=average)\n",
    "        current_size = data.shape[-1]\n",
    "#         print(\"current_size = \", current_size)\n",
    "    return data\n",
    "    \n",
    "def apply_local_op(data, device, mode='conv', ave=True):\n",
    "    \"\"\"\n",
    "    :param data: data to be processed\n",
    "    :param device: which device is the data placed in?\n",
    "    :param mode: string, 'conv' or 'deconv'\n",
    "    :param ave: if to use local average or sample the center\n",
    "    :return: processed data\n",
    "    \"\"\"\n",
    "    in_channels, out_channels = 1,1#, _, _ = data.size()\n",
    "#     print(\"data.size() = \", data.size())\n",
    "    n = min(in_channels, out_channels)\n",
    "    if mode == 'conv':\n",
    "        op = torch.nn.Conv2d(out_channels, out_channels, 2, stride=2, padding=0).to(device)\n",
    "    elif mode == 'deconv':\n",
    "        op = torch.nn.ConvTranspose2d(out_channels, out_channels, 3, stride=2, padding=0).to(device)\n",
    "    else:\n",
    "        raise ValueError('mode can only be conv or deconv!')\n",
    "    op.weight.data = torch.zeros(op.weight.data.size()).to(device)\n",
    "    op.bias.data = torch.zeros(op.bias.data.size()).to(device)\n",
    "\n",
    "    for i in range(n):\n",
    "        if mode == 'conv':\n",
    "            if ave:\n",
    "                op.weight.data[i, i, :, :] = torch.ones(op.weight.data[i, i, :, :].size()).to(device) / 4\n",
    "            else:\n",
    "                op.weight.data[i, i, 1, 1] = torch.ones(op.weight.data[i, i, 1, 1].size()).to(device)\n",
    "        elif mode == 'deconv':\n",
    "            op.weight.data[i, i, :, :] = torch.ones(op.weight.data[i, i, :, :].size()).to(device) / 4\n",
    "            op.weight.data[i, i, 0, 1] += 1 / 4\n",
    "            op.weight.data[i, i, 1, 0] += 1 / 4\n",
    "            op.weight.data[i, i, 1, 2] += 1 / 4\n",
    "            op.weight.data[i, i, 2, 1] += 1 / 4\n",
    "            op.weight.data[i, i, 1, 1] += 1 / 4\n",
    "            op.weight.data[i, i, 1, 1] += 1 / 2\n",
    "\n",
    "    # make them non-trainable\n",
    "    for param in op.parameters():\n",
    "        param.requires_grad = False\n",
    "\n",
    "    return op(data)\n",
    "\n",
    "def apply_mask(data, mask, mask_type='resolved', width=1):\n",
    "    \"\"\"\n",
    "    :param data: data to be processed\n",
    "    :param mask: mask, a 2D torch tensor of 0s and 1s\n",
    "    :param mask_type: resolved map or unresolved map\n",
    "    :param width: int, specify how large the region is\n",
    "    :return: a 4D torch tensor represents masked data\n",
    "    \"\"\"\n",
    "    if not isinstance(width, int):\n",
    "        raise ValueError('width should be a positive integer!')\n",
    "\n",
    "    # convert to unresolved mask\n",
    "    if mask_type == 'resolved':\n",
    "        mask = 1 - mask\n",
    "        # print(mask)\n",
    "    elif mask_type == 'unresolved':\n",
    "        mask = mask\n",
    "    else:\n",
    "        raise ValueError('mask_type could only be resolved or unresolved!')\n",
    "\n",
    "#     # expansion\n",
    "#     dx = [i for i in range(-width, width+1)]\n",
    "#     dy = [i for i in range(-width, width+1)]\n",
    "#     m, n = mask.size()\n",
    "#     for c in mask.nonzero():\n",
    "#         x, y = int(c[0]), int(c[1])\n",
    "#         for i in range(2*width+1):\n",
    "#             for j in range(2*width+1):\n",
    "#                 if 0 <= x + dx[i] < m and 0 <= y + dy[j] < n:\n",
    "#                     mask[x + dx[i], y + dy[j]] = 1\n",
    "\n",
    "    # apply\n",
    "#     print(\"data shape = \", data.shape)\n",
    "#     print(\"mask.unsqueeze(0).unsqueeze(0).float() shape = \", mask.unsqueeze(0).unsqueeze(0).float().shape)\n",
    "    masked_data = data * mask.unsqueeze(0).unsqueeze(0).float()\n",
    "    return masked_data\n",
    "\n",
    "def grow(data, size_full=128):\n",
    "#     print(\"growing\")\n",
    "    data = make_size_4(data)\n",
    "    n_points, _, size_small, _ = data.shape\n",
    "    divide = size_full // size_small\n",
    "\n",
    "    averaged_full = np.zeros((n_points, size_full,size_full))\n",
    "    for i in range(size_small):\n",
    "        for j in range(size_small):\n",
    "            repeated = np.repeat(np.repeat(data[:,0,i,j].reshape(n_points,1,1), divide, axis = 1), divide, axis = 2)\n",
    "            averaged_full[:,i*divide:(i+1)*divide, j*divide:(j+1)*divide] = repeated\n",
    "    return averaged_full\n",
    "\n",
    "def make_next_layer(data_big, data_small, unresolved, size = 128):\n",
    "    '''determine the next level make up with new map, old map and unresolved \n",
    "    All tensors\n",
    "    '''\n",
    "#     print('making next layer')\n",
    "    multi = grow(data_big, size) * (1-grow(unresolved, size)) + grow(data_small, size)*grow(unresolved, size)\n",
    "    return multi\n",
    "\n",
    "def data_of_size(data,size):\n",
    "    return decrease_to_size(torch.tensor(data).unsqueeze(1), size)\n",
    "\n",
    "def MSE(data1, data2, size_small, tol = 1e-5, size = 128):\n",
    "#     print(\"data1 shape = \", data1.shape)\n",
    "#     print(\"data2 shape = \", data2.shape)\n",
    "    data1 = make_size_4(data1)\n",
    "    data2 = make_size_4(data2)\n",
    "    mse = np.mean((grow(data1, size) - grow(data2, size))**2, axis = 0)\n",
    "    \n",
    "#     print(\"mse shape = \", mse.shape)\n",
    "    mse_smaller = decrease_to_size(torch.tensor(mse).unsqueeze(0).unsqueeze(0), size_small)\n",
    "    \n",
    "    loss_summary = mse_smaller[0,0]\n",
    "#     print(\"max_loss = \", loss_summary.max())\n",
    "    \n",
    "    return loss_summary.max() <= tol, loss_summary, loss_summary <= tol\n",
    "\n",
    "def make_size_4(data):\n",
    "    data = torch.tensor(data)\n",
    "    if len(data.shape) == 2:\n",
    "        data = data.unsqueeze(0)\n",
    "    if len(data.shape) == 3:\n",
    "        data = data.unsqueeze(1)\n",
    "    assert (len(data.shape) == 4)\n",
    "    return data"
   ]
  },
  {
   "cell_type": "markdown",
   "metadata": {},
   "source": [
    "## MrCAE"
   ]
  },
  {
   "cell_type": "markdown",
   "metadata": {},
   "source": [
    "Below is the progressive training framework. \n",
    "One could have flexible control over each training step: low-level models are cheap to obtain, and higher level models are built based on them -- one can always revert back to the previous level and adjust the parameters to re-train the model if it is not satisfying. "
   ]
  },
  {
   "cell_type": "code",
   "execution_count": 15,
   "metadata": {},
   "outputs": [
    {
     "name": "stderr",
     "output_type": "stream",
     "text": [
      "<ipython-input-12-415e57eac121>:159: UserWarning: To copy construct from a tensor, it is recommended to use sourceTensor.clone().detach() or sourceTensor.clone().detach().requires_grad_(True), rather than torch.tensor(sourceTensor).\n",
      "  data = torch.tensor(data)\n"
     ]
    },
    {
     "data": {
      "image/png": "[encoded data removed]",
      "text/plain": [
       "<Figure size 432x288 with 2 Axes>"
      ]
     },
     "metadata": {
      "needs_background": "light"
     },
     "output_type": "display_data"
    },
    {
     "data": {
      "image/png": "[encoded data removed]",
      "text/plain": [
       "<Figure size 432x288 with 2 Axes>"
      ]
     },
     "metadata": {
      "needs_background": "light"
     },
     "output_type": "display_data"
    },
    {
     "data": {
      "image/png": "[encoded data removed]",
      "text/plain": [
       "<Figure size 432x288 with 2 Axes>"
      ]
     },
     "metadata": {
      "needs_background": "light"
     },
     "output_type": "display_data"
    },
    {
     "data": {
      "image/png": "[encoded data removed]",
      "text/plain": [
       "<Figure size 432x288 with 2 Axes>"
      ]
     },
     "metadata": {
      "needs_background": "light"
     },
     "output_type": "display_data"
    }
   ],
   "source": [
    "# init model & load data\n",
    "data_path = '../data/toy2'\n",
    "model_path = '../model/toy2'\n",
    "result_path = '../result/toy2/'\n",
    "\n",
    "full_data_path = os.path.join(data_path, 'data.npy')\n",
    "data = np.load(full_data_path)\n",
    "\n",
    "\n",
    "#predict 2x2 and graph\n",
    "current_size = 2\n",
    "next_size = current_size * 2\n",
    "resolved = False\n",
    "current_data = grow(data_of_size(data,current_size))\n",
    "next_data = grow(data_of_size(data,next_size))\n",
    "\n",
    "# print(\"current_data shape = \", current_data.shape)\n",
    "plt.imshow(current_data[0])\n",
    "plt.title(\"Biggest divide = \"+str(current_size))\n",
    "plt.colorbar()\n",
    "plt.show()\n",
    "resolved, loss, unresolved = MSE(current_data, next_data, current_size)\n",
    "while resolved == False:\n",
    "\n",
    "    current_data = make_next_layer(next_data, current_data, unresolved)\n",
    "    current_size *=2\n",
    "    next_size = current_size * 2\n",
    "    next_data = grow(data_of_size(data,next_size))\n",
    "#     print(\"current_size= \", current_size)\n",
    "    plt.imshow(current_data[0])\n",
    "    plt.title(\"Biggest divide = \"+str(current_size))\n",
    "    plt.colorbar()\n",
    "    plt.show()\n",
    "    \n",
    "    resolved, loss, unresolved = MSE(current_data, next_data, current_size)\n",
    "\n",
    "\n"
   ]
  },
  {
   "cell_type": "code",
   "execution_count": 7,
   "metadata": {},
   "outputs": [
    {
     "data": {
      "text/plain": [
       "tensor([[0., 0., 0., 0.],\n",
       "        [0., 0., 0., 0.],\n",
       "        [0., 0., 0., 0.],\n",
       "        [0., 0., 0., 0.]])"
      ]
     },
     "execution_count": 7,
     "metadata": {},
     "output_type": "execute_result"
    }
   ],
   "source": [
    "loss"
   ]
  },
  {
   "cell_type": "code",
   "execution_count": 11,
   "metadata": {},
   "outputs": [
    {
     "name": "stdout",
     "output_type": "stream",
     "text": [
      "current_size=  32\n"
     ]
    },
    {
     "data": {
      "image/png": "[encoded data removed]",
      "text/plain": [
       "<Figure size 432x288 with 2 Axes>"
      ]
     },
     "metadata": {
      "needs_background": "light"
     },
     "output_type": "display_data"
    },
    {
     "data": {
      "image/png": "[encoded data removed]",
      "text/plain": [
       "<Figure size 432x288 with 2 Axes>"
      ]
     },
     "metadata": {
      "needs_background": "light"
     },
     "output_type": "display_data"
    },
    {
     "name": "stdout",
     "output_type": "stream",
     "text": [
      "current_size =  128\n",
      "current_size =  64\n",
      "current_size =  32\n",
      "current_size =  16\n",
      "growing\n"
     ]
    },
    {
     "name": "stderr",
     "output_type": "stream",
     "text": [
      "<ipython-input-2-528c689a7a60>:159: UserWarning: To copy construct from a tensor, it is recommended to use sourceTensor.clone().detach() or sourceTensor.clone().detach().requires_grad_(True), rather than torch.tensor(sourceTensor).\n",
      "  data = torch.tensor(data)\n"
     ]
    },
    {
     "data": {
      "image/png": "[encoded data removed]",
      "text/plain": [
       "<Figure size 432x288 with 2 Axes>"
      ]
     },
     "metadata": {
      "needs_background": "light"
     },
     "output_type": "display_data"
    }
   ],
   "source": [
    "print(\"current_size= \", current_size)\n",
    "plt.imshow(current_data[0])\n",
    "plt.colorbar()\n",
    "plt.show()\n",
    "\n",
    "plt.imshow(data[0])\n",
    "plt.colorbar()\n",
    "plt.show()\n",
    "\n",
    "plt.imshow(grow(data_of_size(data,16))[0])\n",
    "plt.colorbar()\n",
    "plt.show()"
   ]
  },
  {
   "cell_type": "code",
   "execution_count": 4,
   "metadata": {},
   "outputs": [
    {
     "ename": "NameError",
     "evalue": "name 'averaged_data' is not defined",
     "output_type": "error",
     "traceback": [
      "\u001b[1;31m---------------------------------------------------------------------------\u001b[0m",
      "\u001b[1;31mNameError\u001b[0m                                 Traceback (most recent call last)",
      "\u001b[1;32m<ipython-input-4-17549c071e08>\u001b[0m in \u001b[0;36m<module>\u001b[1;34m\u001b[0m\n\u001b[1;32m----> 1\u001b[1;33m \u001b[0mresolved\u001b[0m\u001b[1;33m,\u001b[0m \u001b[0mloss\u001b[0m\u001b[1;33m,\u001b[0m \u001b[0munresolved\u001b[0m \u001b[1;33m=\u001b[0m \u001b[0mMSE\u001b[0m\u001b[1;33m(\u001b[0m\u001b[0maveraged_data\u001b[0m\u001b[1;33m,\u001b[0m \u001b[0mall_data_4x4\u001b[0m\u001b[1;33m,\u001b[0m \u001b[1;36m2\u001b[0m\u001b[1;33m)\u001b[0m\u001b[1;33m\u001b[0m\u001b[1;33m\u001b[0m\u001b[0m\n\u001b[0m",
      "\u001b[1;31mNameError\u001b[0m: name 'averaged_data' is not defined"
     ]
    }
   ],
   "source": [
    "resolved, loss, unresolved = MSE(averaged_data, all_data_4x4, 2)"
   ]
  },
  {
   "cell_type": "code",
   "execution_count": null,
   "metadata": {},
   "outputs": [],
   "source": [
    "averaged_data = make_next_layer(all_data_4x4, averaged_data, unresolved)\n",
    "plt.imshow(averaged_data[0])\n",
    "plt.colorbar()\n",
    "plt.show()"
   ]
  },
  {
   "cell_type": "code",
   "execution_count": null,
   "metadata": {},
   "outputs": [],
   "source": [
    "loss"
   ]
  },
  {
   "cell_type": "code",
   "execution_count": null,
   "metadata": {},
   "outputs": [],
   "source": [
    "mse = np.mean((grow(all_data_2x2, 128) - grow(all_data_4x4, 128))**2, axis = 0)\n",
    "print(mse.shape)\n",
    "plt.imshow(mse)\n",
    "plt.colorbar()\n",
    "plt.show()\n",
    "\n",
    "mse_2x2 = decrease_to_size(torch.tensor(mse).unsqueeze(0).unsqueeze(0), 2)\n",
    "plt.imshow(mse_2x2[0,0])\n",
    "plt.colorbar()\n",
    "plt.show()"
   ]
  },
  {
   "cell_type": "code",
   "execution_count": null,
   "metadata": {},
   "outputs": [],
   "source": [
    "tol = 1e-5\n",
    "loss_summary = mse_2x2[0,0]\n",
    "resolved, loss, unresolved = loss_summary.max() <= tol, loss_summary, loss_summary <= tol\n",
    "print(unresolved)\n",
    "print(loss_summary)"
   ]
  },
  {
   "cell_type": "code",
   "execution_count": null,
   "metadata": {},
   "outputs": [],
   "source": [
    "multi = grow(all_data_2x2, 128) * (1-grow(unresolved, 128))"
   ]
  },
  {
   "cell_type": "code",
   "execution_count": null,
   "metadata": {},
   "outputs": [],
   "source": [
    "multi_4x4 = grow(all_data_4x4, 128) * (1-grow(unresolved, 128)) + grow(all_data_2x2, 128)*grow(unresolved, 128)"
   ]
  },
  {
   "cell_type": "code",
   "execution_count": null,
   "metadata": {},
   "outputs": [],
   "source": [
    "# multi.shape\n",
    "plt.imshow(all_data_2x2[0,0])\n",
    "plt.colorbar()\n",
    "plt.show()\n",
    "\n",
    "plt.imshow(multi[0,])\n",
    "plt.colorbar()\n",
    "plt.show()"
   ]
  },
  {
   "cell_type": "code",
   "execution_count": null,
   "metadata": {},
   "outputs": [],
   "source": [
    "# mse = np.mean((grow(torch.tensor(all_data_8x8), 128) - grow(torch.tensor(multi), 128))**2, axis = 0)\n",
    "# print(mse.shape)\n",
    "# plt.imshow(mse)\n",
    "# plt.colorbar()\n",
    "# plt.show()\n",
    "\n",
    "mse_4x4 = decrease_to_size(torch.tensor(mse).unsqueeze(0).unsqueeze(0), 4)\n",
    "plt.imshow(mse_4x4[0,0])\n",
    "plt.colorbar()\n",
    "plt.show()\n",
    "\n"
   ]
  },
  {
   "cell_type": "code",
   "execution_count": null,
   "metadata": {},
   "outputs": [],
   "source": [
    "tol = 1e-5\n",
    "loss_summary = mse_4x4[0,0]\n",
    "resolved, loss, unresolved = loss_summary.max() <= tol, loss_summary, loss_summary <= tol\n",
    "\n",
    "unresolved = torch.tensor(unresolved)\n",
    "print(unresolved)\n",
    "print(loss_summary)"
   ]
  },
  {
   "cell_type": "code",
   "execution_count": null,
   "metadata": {},
   "outputs": [],
   "source": [
    "multi_8x8 = grow(torch.tensor(all_data_8x8), 128) * (1-grow(unresolved, 128)) + grow(torch.tensor(multi_4x4), 128)*grow(unresolved, 128)"
   ]
  },
  {
   "cell_type": "code",
   "execution_count": null,
   "metadata": {},
   "outputs": [],
   "source": [
    "plt.imshow(multi_8x8[0])\n",
    "plt.colorbar()\n",
    "plt.show()"
   ]
  },
  {
   "cell_type": "code",
   "execution_count": null,
   "metadata": {},
   "outputs": [],
   "source": [
    "resolve_map = torch.tensor([[1,1,1],[1,0,1],[1,1,1]])\n",
    "\n",
    "mapped = apply_mask(all_data, resolve_map)\n",
    "print(mapped.shape)\n",
    "\n",
    "plt.imshow(mapped[0,0])\n",
    "plt.colorbar()\n",
    "plt.show()"
   ]
  },
  {
   "cell_type": "code",
   "execution_count": null,
   "metadata": {},
   "outputs": [],
   "source": [
    "seven = net.apply_local_op(mapped, 'cpu', mode='deconv', ave=True)\n",
    "\n",
    "plt.imshow(seven[0,0])"
   ]
  },
  {
   "cell_type": "code",
   "execution_count": null,
   "metadata": {},
   "outputs": [],
   "source": [
    "# training\n",
    "archs = [[1]]#,[1,3,5,7]]\n",
    "tols = [0.001]#, 0.0005]#, 0.0001]\n",
    "# net.train_net(archs=archs, dataset=dataset, max_epoch=3000, batch_size=350, \n",
    "#               tols=tols, activation=torch.nn.Sequential(), w=0.5, model_path=model_path, \n",
    "#               result_path=result_path, std=0.01, verbose=3)\n",
    "\n",
    "n_levels = 5\n",
    "activation = torch.nn.Sequential()\n",
    "use_maps = True\n",
    "std = 0.01\n",
    "verbose = 3\n",
    "max_epoch=100\n",
    "lr = 1e-3\n",
    "tol = 0.001\n",
    "\n",
    "model = net.CAE(n_levels=n_levels, activation=activation, use_maps=use_maps)\n",
    "\n",
    "# try:\n",
    "#     model_space = torch.load(os.path.join(model_path, 'model_L0_0.pt'))\n",
    "# except:\n",
    "#     print(\"training new stage\")\n",
    "#     model_space = net.train_net_one_stage(mode=1, n_filters=1, dataset=dataset, max_epoch=3000, batch_size=350, result_path = result_path,\n",
    "#                         load_model=None, tol=tols[0],std=0.01,  model_path=model_path, verbose=3)"
   ]
  },
  {
   "cell_type": "code",
   "execution_count": null,
   "metadata": {},
   "outputs": [],
   "source": [
    "model.deeper_op(std=std)\n",
    "if verbose > 1:\n",
    "            print('model layers: ')\n",
    "            print(list(model._modules.keys()))\n",
    "val_losses, best_val_loss, mset = model.train_arch(dataset, max_epoch=max_epoch, batch_size=300,\n",
    "                                                           lr=lr, tol=tol, verbose=verbose, w=0.5)\n",
    "        "
   ]
  },
  {
   "cell_type": "code",
   "execution_count": null,
   "metadata": {},
   "outputs": [],
   "source": [
    "print(model.cur_level)\n",
    "# all_data = dataset.obtain_data_at_current_level_all(model.cur_level)\n",
    "\n",
    "predicted,_,_,_ = model(all_data,model.cur_level)\n",
    "plt.imshow(predicted[0,0].detach().numpy())\n",
    "plt.colorbar()\n",
    "plt.show()\n",
    "\n",
    "plt.imshow(all_data[0,0].detach().numpy())\n",
    "plt.colorbar()\n",
    "plt.show()"
   ]
  },
  {
   "cell_type": "code",
   "execution_count": null,
   "metadata": {},
   "outputs": [],
   "source": [
    "n_filters = 1\n",
    "batch_size = 250\n",
    "model.wider_op(n_filters=n_filters, std=std)\n",
    "# if verbose > 1:\n",
    "print('model layers: ')\n",
    "print(list(model._modules.keys()))\n",
    "val_losses, best_val_loss, mset = model.train_arch(dataset, max_epoch=max_epoch, batch_size=batch_size,\n",
    "                                                           lr=lr, tol=tol, verbose=verbose, w=0.5)"
   ]
  },
  {
   "cell_type": "code",
   "execution_count": null,
   "metadata": {},
   "outputs": [],
   "source": [
    "print(model.cur_level)\n",
    "# all_data = dataset.obtain_data_at_current_level_all(model.cur_level)\n",
    "\n",
    "predicted,_,_,_ = model(all_data,model.cur_level)\n",
    "plt.imshow(predicted[0,0].detach().numpy())\n",
    "plt.colorbar()\n",
    "plt.show()\n",
    "\n",
    "plt.imshow(all_data[0,0].detach().numpy())\n",
    "plt.colorbar()\n",
    "plt.show()"
   ]
  },
  {
   "cell_type": "code",
   "execution_count": null,
   "metadata": {},
   "outputs": [],
   "source": [
    "\n",
    "print(model_space.cur_level)\n",
    "all_data = dataset.obtain_data_at_current_level_all(model_space.cur_level)\n",
    "print(all_data.shape)\n",
    "train_data, val_data, test_data =dataset.obtain_data_at_current_level(model_space.cur_level)\n",
    "encoded = model_space.encode(all_data, model_space.cur_level)\n",
    "print(encoded.shape)\n",
    "train_encoded = model_space.encode(train_data, model_space.cur_level).reshape((1, len(train_data), len(encoded[0,0])**2))\n",
    "val_encoded = model_space.encode(val_data, model_space.cur_level).reshape((1, len(val_data), len(encoded[0,0])**2))\n",
    "test_encoded = model_space.encode(test_data, model_space.cur_level).reshape((1, len(test_data), len(encoded[0,0])**2))\n",
    "\n",
    "print(train_encoded.shape)\n",
    "print(val_encoded.shape)\n",
    "print(test_encoded.shape)"
   ]
  },
  {
   "cell_type": "code",
   "execution_count": null,
   "metadata": {},
   "outputs": [],
   "source": [
    "print(encoded.shape)\n",
    "plt.imshow(encoded[500,0].detach().numpy())\n",
    "plt.colorbar()"
   ]
  },
  {
   "cell_type": "code",
   "execution_count": null,
   "metadata": {},
   "outputs": [],
   "source": [
    "#make more training points, more and less timesteps per\n",
    "n_timesteps_per_point = len(test_encoded[0])\n",
    "print(n_timesteps_per_point)\n",
    "total_time_points = len(train_encoded[0])\n",
    "n_points = total_time_points//n_timesteps_per_point\n",
    "print(n_points)\n",
    "train_encoded_more = torch.cat(\n",
    "    (train_encoded[:,:n_timesteps_per_point], train_encoded[:,n_timesteps_per_point:2*n_timesteps_per_point]), 0)\n",
    "print(train_encoded_more.shape)\n",
    "for i in range(2,n_points):\n",
    "    train_encoded_more = torch.cat(\n",
    "    (train_encoded_more, train_encoded[:,(i*n_timesteps_per_point):((i+1)*n_timesteps_per_point)]), 0)\n",
    "\n",
    "print(train_encoded_more.shape)"
   ]
  },
  {
   "cell_type": "code",
   "execution_count": null,
   "metadata": {},
   "outputs": [],
   "source": [
    "#getting time inputs\n",
    "# t = np.linspace(0, 8*np.pi, 500)\n",
    "k = 0                         # model index: should be in {0, 2, ..., 10}\n",
    "dt = 1#t[1] - t[0]              # time unit: 0.0005 for Lorenz and 0.01 for others\n",
    "system = 'toy1_longer'\n",
    "noise = 0.0                   # noise percentage: 0.00, 0.01 or 0.02\n",
    "\n",
    "lr = 1e-3                     # learning rate\n",
    "max_epochs = 10000            # the maximum training epoch \n",
    "batch_size = 320              # training batch size\n",
    "min_k = 7\n",
    "max_k = 8\n",
    "\n",
    "print(val_encoded.shape)\n",
    "_,n_steps, total_dim= val_encoded.shape\n",
    "n_steps = n_steps - 1\n",
    "# total_dim = n_per_dim **2\n",
    "print(\"total_dim = \", total_dim)\n",
    "arch = [total_dim, 128, 128, 128, total_dim] \n",
    "\n",
    "# global const\n",
    "n_forward = 5\n",
    "step_size = 2**k\n",
    "\n",
    "criterion = torch.nn.MSELoss(reduction='none')\n",
    "# print(dt)\n",
    "# dataset = tnet.DataSet(train_encoded, val_encoded, test_encoded, dt, step_size, n_forward)"
   ]
  },
  {
   "cell_type": "code",
   "execution_count": null,
   "metadata": {},
   "outputs": [],
   "source": [
    "#do time training \n",
    "time_models = list()\n",
    "step_sizes = list()\n",
    "for k in range(min_k, max_k):\n",
    "    print(\"k = \", k)\n",
    "    step_size = 2**k\n",
    "    step_sizes.append(step_size)\n",
    "    dataset = tnet.DataSet(train_encoded, val_encoded, test_encoded, dt, step_size, n_forward)#tnet.DataSet(train_data, val_data, test_data, dt, step_size, n_forward)\n",
    "#     print(dataset.train_x.shape)\n",
    "    model_name = 'model_D{}_noise{}_0.pt'.format(step_size, noise)\n",
    "    model_path_this = os.path.join(model_path, model_name)\n",
    "\n",
    "    # create/load model object\n",
    "    try:\n",
    "        device = 'cuda' if torch.cuda.is_available() else 'cpu'\n",
    "        model_time = torch.load(model_path_this, map_location=device)\n",
    "        model_time.device = device\n",
    "    except:\n",
    "        print('create model {} ...'.format(model_name))\n",
    "        print('dt = ', dt)\n",
    "        model_time = tnet.ResNet(arch=arch, dt=dt, step_size=step_size)\n",
    "\n",
    "    # training\n",
    "    model_time.train_net(dataset, max_epoch=max_epochs, batch_size=batch_size, lr=lr,\n",
    "                    model_path=os.path.join(model_path, model_name))\n",
    "    \n",
    "# load models\n",
    "# for step_size in step_sizes:\n",
    "    print('load model_D{}.pt'.format(step_size))\n",
    "    time_models.append(torch.load(model_path_this, map_location='cpu'))\n",
    "    \n",
    "# fix model consistencies trained on gpus (optional)\n",
    "for model in time_models:\n",
    "    model.device = 'cpu'\n",
    "    model._modules['increment']._modules['activation'] = torch.nn.ReLU()"
   ]
  },
  {
   "cell_type": "code",
   "execution_count": null,
   "metadata": {},
   "outputs": [],
   "source": [
    "val_encoded.shape"
   ]
  },
  {
   "cell_type": "code",
   "execution_count": null,
   "metadata": {},
   "outputs": [],
   "source": [
    "# # uniscale time-stepping with NN\n",
    "preds_mse = list()\n",
    "times = list()\n",
    "\n",
    "for model in tqdm(models):\n",
    "    start = time.time()\n",
    "    print(val_encoded.shape)\n",
    "    y_preds = model.uni_scale_forecast(torch.tensor(val_encoded[:, 0, :]).float(), n_steps=n_steps)\n",
    "    print(\"y_preds.shape =\", y_preds.shape)\n",
    "    end = time.time()\n",
    "    times.append(end - start)\n",
    "    print('criterion(torch.tensor(val_encoded[:, 1:, :]).float(), y_preds) shape =', criterion(torch.tensor(val_encoded[:, 1:, :]).float(), y_preds).mean(-1).shape )\n",
    "    preds_mse.append(criterion(torch.tensor(val_encoded[:, 1:, :]).float(), y_preds).mean(-1))\n",
    "    print(len(preds_mse))\n",
    "    \n",
    "# visualize forecasting error at each time step    \n",
    "fig = plt.figure(figsize=(20, 8))\n",
    "colors=iter(plt.cm.rainbow(np.linspace(0, 1, max_k-min_k)))\n",
    "print(colors)\n",
    "for k in range(max_k-min_k):\n",
    "    err = preds_mse[k]\n",
    "    print('err.shape = ', err.shape)\n",
    "    mean = err[0].detach().numpy()\n",
    "    rgb = next(colors)\n",
    "    print(mean.shape)\n",
    "#     print(len(t))\n",
    "#     print(t)\n",
    "    plt.semilogy(mean, linestyle='-', color=rgb, linewidth=3.0, label='$\\Delta\\ t$={}dt'.format(step_sizes[k]))\n",
    "plt.legend(fontsize=20, loc='upper right')\n",
    "plt.xticks(fontsize=20)\n",
    "plt.yticks(fontsize=20)\n",
    "\n",
    "plt.ylim([1e-5, 10])\n",
    "# plt.xlim([0, len(t)])\n",
    "    "
   ]
  },
  {
   "cell_type": "code",
   "execution_count": null,
   "metadata": {},
   "outputs": [],
   "source": [
    "fig = plt.figure(figsize=(20, 8))\n",
    "colors=iter(plt.cm.rainbow(np.linspace(0, 1, max_k-min_k)))\n",
    "print(colors)\n",
    "for k in range(max_k-min_k):\n",
    "    err = preds_mse[k]\n",
    "    mean = err.mean(0).detach().numpy()\n",
    "#     print(np.mean(mean[::step_every]))\n",
    "    rgb = next(colors)\n",
    "    step_every = step_sizes[k]\n",
    "    t = range(len(mean))\n",
    "    plt.semilogy(t[::step_every], mean[::step_every], linestyle='-', color=rgb, linewidth=3.0, label='$\\Delta\\ t$={}dt'.format(step_sizes[k]))\n",
    "plt.legend(fontsize=20, loc='upper right')\n",
    "plt.xticks(fontsize=20)\n",
    "plt.yticks(fontsize=20)\n",
    "\n",
    "plt.ylim([1e-5, 10])"
   ]
  },
  {
   "cell_type": "code",
   "execution_count": null,
   "metadata": {},
   "outputs": [],
   "source": [
    "#need to predict encoded dta in time and then decode\n",
    "\n",
    "print(n_steps)\n",
    "train_preds_time = model.uni_scale_forecast(torch.tensor(train_encoded[:, 0, :]).float(), n_steps=len(train_encoded[0])-1)\n",
    "val_preds_time = model.uni_scale_forecast(torch.tensor(val_encoded[:, 0, :]).float(), n_steps=n_steps)\n",
    "test_preds_time = model.uni_scale_forecast(torch.tensor(test_encoded[:, 0, :]).float(), n_steps=len(test_encoded[0])-1)\n",
    "print(criterion(torch.tensor(train_encoded[:, 1:, :]).float(), train_preds_time).mean(-1).mean())\n",
    "print(criterion(torch.tensor(val_encoded[:, 1:, :]).float(), val_preds_time).mean(-1).mean())\n",
    "print(criterion(torch.tensor(test_encoded[:, 1:, :]).float(), test_preds_time).mean(-1).mean())\n",
    "# train_encoded\n",
    "\n",
    "#decode\n",
    "print(train_preds_time.reshape((3499,3,3)).shape)\n",
    "to_decode_train = torch.tensor(train_preds_time.reshape((3499,3,3))).unsqueeze(1).float()\n",
    "train_decoded = model_space.decode(to_decode_train, model_space.cur_level)#.reshape((1, len(train_data), len(encoded[0,0])**2))\n",
    "print(train_decoded.shape)\n",
    "\n",
    "print(val_preds_time.shape)\n",
    "to_decode_val = torch.tensor(val_preds_time.reshape((999,3,3))).unsqueeze(1).float()\n",
    "val_decoded = model_space.decode(to_decode_val, model_space.cur_level)#.reshape((1, len(train_data), len(encoded[0,0])**2))\n",
    "\n",
    "print(test_preds_time.shape)\n",
    "to_decode_test = torch.tensor(test_preds_time.reshape((len(test_preds_time[0]),3,3)).unsqueeze(1).float())\n",
    "test_decoded = model_space.decode(to_decode_test, model_space.cur_level)#.reshape((1, len(train_data), len(encoded[0,0])**2))\n",
    "print(test_decoded.shape)"
   ]
  },
  {
   "cell_type": "code",
   "execution_count": null,
   "metadata": {},
   "outputs": [],
   "source": [
    "train_preds_time.shape\n",
    "plt.imshow(train_preds_time[0,500].reshape(3,3))\n",
    "plt.colorbar()"
   ]
  },
  {
   "cell_type": "code",
   "execution_count": null,
   "metadata": {},
   "outputs": [],
   "source": [
    "print(train_decoded.shape)\n",
    "plt.imshow(train_decoded[499,0].detach().numpy())\n",
    "plt.colorbar()\n",
    "plt.show()\n",
    "print(train_data.shape)\n",
    "plt.imshow(train_data[21,0].detach().numpy())\n",
    "plt.colorbar()\n",
    "plt.show()\n",
    "\n",
    "mse =criterion(torch.tensor(train_decoded[:]).float(), train_data[:-1,].float()).mean( axis=(1, 2,3))\n",
    "print(mse.shape)\n",
    "plt.semilogy(mse)"
   ]
  },
  {
   "cell_type": "code",
   "execution_count": null,
   "metadata": {},
   "outputs": [],
   "source": [
    "\n",
    "print(test_preds_time.shape)\n",
    "mse =criterion(torch.tensor(val_decoded[:]).float(), val_data[:-1,].float()).mean( axis=(1,2,3))\n",
    "print(mse.shape)\n",
    "plt.semilogy(mse)\n",
    "plt.title(\"val error of decoded\")\n",
    "plt.show()\n",
    "\n",
    "print(test_preds_time.shape)\n",
    "mse =criterion(torch.tensor(test_decoded[:]).float(), test_data[:-1,].float()).mean( axis=(1,2,3))\n",
    "print(mse.shape)\n",
    "plt.semilogy(mse)\n",
    "plt.title(\"test error of decoded\")"
   ]
  },
  {
   "cell_type": "code",
   "execution_count": null,
   "metadata": {},
   "outputs": [],
   "source": [
    "utils.animate(test_decoded.detach().numpy(), os.path.join(result_path, 'decoded_test_7x7.gif'))"
   ]
  },
  {
   "cell_type": "code",
   "execution_count": null,
   "metadata": {},
   "outputs": [],
   "source": []
  },
  {
   "cell_type": "code",
   "execution_count": null,
   "metadata": {},
   "outputs": [],
   "source": [
    "# torch.tensor(train_decoded[:]).float(), train_data[:-1,].float())\n",
    "print(train_decoded.shape)\n",
    "tol = 0.1\n",
    "fully_resolved, loss, resolved_map = net.check_pixel_level_loss(train_decoded[:499].float(), train_data[1:500,].float(), tol=tol, device = 'cpu')"
   ]
  },
  {
   "cell_type": "code",
   "execution_count": null,
   "metadata": {},
   "outputs": [],
   "source": [
    "print(loss.shape)\n",
    "plt.imshow(loss.detach().numpy())\n",
    "plt.colorbar()\n",
    "plt.show()\n",
    "\n",
    "plt.imshow(resolved_map.detach().numpy())\n",
    "plt.colorbar()\n",
    "plt.show()"
   ]
  },
  {
   "cell_type": "code",
   "execution_count": null,
   "metadata": {},
   "outputs": [],
   "source": []
  },
  {
   "cell_type": "code",
   "execution_count": null,
   "metadata": {},
   "outputs": [],
   "source": []
  }
 ],
 "metadata": {
  "kernelspec": {
   "display_name": "Python 3",
   "language": "python",
   "name": "python3"
  },
  "language_info": {
   "codemirror_mode": {
    "name": "ipython",
    "version": 3
   },
   "file_extension": ".py",
   "mimetype": "text/x-python",
   "name": "python",
   "nbconvert_exporter": "python",
   "pygments_lexer": "ipython3",
   "version": "3.8.5"
  }
 },
 "nbformat": 4,
 "nbformat_minor": 2
}

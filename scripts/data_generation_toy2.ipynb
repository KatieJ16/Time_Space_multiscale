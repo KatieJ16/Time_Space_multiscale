{
 "cells": [
  {
   "cell_type": "markdown",
   "metadata": {},
   "source": [
    "## Data Generation"
   ]
  },
  {
   "cell_type": "markdown",
   "metadata": {},
   "source": [
    "### created by Yuying Liu, 04/30/2020"
   ]
  },
  {
   "cell_type": "markdown",
   "metadata": {},
   "source": [
    "Generaging data of toy problem 2.\n",
    "\n",
    "$$\\Phi(x, y, t) = \\left\\{\\begin{matrix}\n",
    "cos(w_0t)& when \n",
    "\\end{matrix}\\right.$$\n"
   ]
  },
  {
   "cell_type": "code",
   "execution_count": 1,
   "metadata": {},
   "outputs": [],
   "source": [
    "import os\n",
    "import sys\n",
    "import numpy as np\n",
    "import scipy as sp\n",
    "from scipy import integrate\n",
    "from tqdm.notebook import tqdm\n",
    "import matplotlib.pyplot as plt\n",
    "import torch\n",
    "\n",
    "module_path = os.path.abspath(os.path.join('../src/'))\n",
    "if module_path not in sys.path:\n",
    "    sys.path.append(module_path)\n",
    "    \n",
    "    \n",
    "import utils"
   ]
  },
  {
   "cell_type": "code",
   "execution_count": 2,
   "metadata": {},
   "outputs": [],
   "source": [
    "# paths\n",
    "data_dir = '../data/toy2'\n",
    "result_dir = '../result/toy2'"
   ]
  },
  {
   "cell_type": "code",
   "execution_count": 16,
   "metadata": {},
   "outputs": [
    {
     "name": "stdout",
     "output_type": "stream",
     "text": [
      "(128, 128, 5000)\n",
      "(5000, 128, 128)\n"
     ]
    }
   ],
   "source": [
    "# params\n",
    "w0 = 0.5\n",
    "w1 = 1.0\n",
    "width_small = 8\n",
    "\n",
    "# mesh grids\n",
    "n_train = 100\n",
    "n_timesteps = 500\n",
    "n_per_dim = 128\n",
    "num_periods_big = 80\n",
    "num_total_data_points = 5000\n",
    "\n",
    "x = np.arange(n_per_dim)\n",
    "y = np.arange(n_per_dim)\n",
    "t = np.linspace(0, num_periods_big*4*np.pi, num_total_data_points)\n",
    "\n",
    "dt = 1\n",
    "\n",
    "xgrid, ygrid, tgrid = np.meshgrid(x, y, t)\n",
    "\n",
    "Phi = np.cos(w0*tgrid)\n",
    "print(Phi.shape)\n",
    "\n",
    "Phi[3*width_small:4*width_small, 3*width_small:4*width_small,:] = np.cos(w0*tgrid[3*width_small:4*width_small, 3*width_small:4*width_small,:]+np.pi/4)\n",
    "scaled_Phi = (Phi.T - Phi.min()) / (Phi.max() - Phi.min())\n",
    "# plt.imshow(Phi[:,:,0])\n",
    "# plt.colorbar()\n",
    "print(scaled_Phi.shape)\n",
    "\n",
    "# Phi = phi1(xgrid, ygrid, tgrid) + phi2(xgrid, ygrid, tgrid)\n",
    "# scaled_Phi = (Phi - Phi.min()) / (Phi.max() - Phi.min())\n",
    "# print(\"scaled_Phi.shape = \", scaled_Phi.shape)\n",
    "np.save(os.path.join(data_dir, 'data.npy'), scaled_Phi)"
   ]
  },
  {
   "cell_type": "code",
   "execution_count": 9,
   "metadata": {},
   "outputs": [
    {
     "data": {
      "text/plain": [
       "<matplotlib.colorbar.Colorbar at 0x286660c6ca0>"
      ]
     },
     "execution_count": 9,
     "metadata": {},
     "output_type": "execute_result"
    },
    {
     "data": {
      "image/png": "[encoded data removed]",
      "text/plain": [
       "<Figure size 432x288 with 2 Axes>"
      ]
     },
     "metadata": {
      "needs_background": "light"
     },
     "output_type": "display_data"
    }
   ],
   "source": [
    "plt.imshow(Phi[:,:,0])\n",
    "plt.colorbar()"
   ]
  },
  {
   "cell_type": "code",
   "execution_count": 12,
   "metadata": {},
   "outputs": [
    {
     "data": {
      "text/plain": [
       "(100, 128, 128)"
      ]
     },
     "execution_count": 12,
     "metadata": {},
     "output_type": "execute_result"
    }
   ],
   "source": [
    "Phi[:100].shape"
   ]
  },
  {
   "cell_type": "code",
   "execution_count": 15,
   "metadata": {},
   "outputs": [
    {
     "name": "stdout",
     "output_type": "stream",
     "text": [
      "Animating, may take a little while...\n",
      ".....Done! gif saved to  ../result/toy2\\original_data.gif\n"
     ]
    },
    {
     "data": {
      "image/png": "[encoded data removed]",
      "text/plain": [
       "<Figure size 576x576 with 2 Axes>"
      ]
     },
     "metadata": {
      "needs_background": "light"
     },
     "output_type": "display_data"
    }
   ],
   "source": [
    "utils.animate(torch.tensor(scaled_Phi[:100]).unsqueeze(1), os.path.join(result_dir, 'original_data.gif'))"
   ]
  },
  {
   "cell_type": "code",
   "execution_count": null,
   "metadata": {},
   "outputs": [],
   "source": []
  },
  {
   "cell_type": "code",
   "execution_count": null,
   "metadata": {},
   "outputs": [],
   "source": [
    "sol = np.cos(w0*t[:500])\n",
    "plt.plot(sol)\n",
    "\n",
    "plt.plot(np.cos(w1*t[:500]))"
   ]
  },
  {
   "cell_type": "code",
   "execution_count": null,
   "metadata": {},
   "outputs": [],
   "source": []
  },
  {
   "cell_type": "code",
   "execution_count": null,
   "metadata": {},
   "outputs": [],
   "source": []
  },
  {
   "cell_type": "code",
   "execution_count": null,
   "metadata": {},
   "outputs": [],
   "source": []
  },
  {
   "cell_type": "code",
   "execution_count": null,
   "metadata": {},
   "outputs": [],
   "source": []
  }
 ],
 "metadata": {
  "kernelspec": {
   "display_name": "Python 3",
   "language": "python",
   "name": "python3"
  },
  "language_info": {
   "codemirror_mode": {
    "name": "ipython",
    "version": 3
   },
   "file_extension": ".py",
   "mimetype": "text/x-python",
   "name": "python",
   "nbconvert_exporter": "python",
   "pygments_lexer": "ipython3",
   "version": "3.8.5"
  }
 },
 "nbformat": 4,
 "nbformat_minor": 2
}

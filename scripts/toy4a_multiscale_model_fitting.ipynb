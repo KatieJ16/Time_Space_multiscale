{
 "cells": [
  {
   "cell_type": "markdown",
   "metadata": {},
   "source": [
    "# multiscale model fitting for Toy3a\n",
    "\n"
   ]
  },
  {
   "cell_type": "markdown",
   "metadata": {},
   "source": [
    "### start with initalizing many things"
   ]
  },
  {
   "cell_type": "code",
   "execution_count": 1,
   "metadata": {},
   "outputs": [
    {
     "name": "stdout",
     "output_type": "stream",
     "text": [
      "reloaded\n",
      "using new ResNet thing\n"
     ]
    }
   ],
   "source": [
    "# imports\n",
    "import os\n",
    "import sys\n",
    "import torch\n",
    "# import pickle\n",
    "import numpy as np\n",
    "import matplotlib.pyplot as plt\n",
    "# from tqdm.notebook import tqdm\n",
    "# import time\n",
    "import math\n",
    "\n",
    "module_path = os.path.abspath(os.path.join('../src/'))\n",
    "if module_path not in sys.path:\n",
    "    sys.path.append(module_path)\n",
    "    \n",
    "        \n",
    "# import torch_cae_multilevel_V4 as net\n",
    "import ResNet as tnet\n",
    "import utils\n",
    "import training_class as tc\n",
    "\n",
    "if torch.cuda.is_available():\n",
    "    torch.cuda.set_per_process_memory_fraction(0.5, 0)"
   ]
  },
  {
   "cell_type": "code",
   "execution_count": 2,
   "metadata": {},
   "outputs": [],
   "source": [
    "%load_ext autoreload\n",
    "%autoreload 2"
   ]
  },
  {
   "cell_type": "code",
   "execution_count": 3,
   "metadata": {},
   "outputs": [
    {
     "name": "stdout",
     "output_type": "stream",
     "text": [
      "device =  cuda:0\n",
      "i =  0\n",
      "Transforming\n",
      "reshape to print\n",
      "i =  1\n",
      "Transforming\n",
      "reshape to print\n",
      "i =  2\n",
      "Transforming\n",
      "reshape to print\n",
      "i =  3\n",
      "Transforming\n",
      "reshape to print\n",
      "i =  4\n",
      "Transforming\n",
      "reshape to print\n",
      "i =  5\n",
      "Transforming\n",
      "reshape to print\n",
      "dict_keys(['64', '32', '16', '8', '4', '2', '1'])\n",
      "i =  0\n",
      "Transforming\n",
      "reshape to print\n",
      "i =  1\n",
      "Transforming\n",
      "reshape to print\n",
      "i =  2\n",
      "Transforming\n",
      "reshape to print\n",
      "i =  3\n",
      "Transforming\n",
      "reshape to print\n",
      "i =  4\n",
      "Transforming\n",
      "reshape to print\n",
      "i =  5\n",
      "Transforming\n",
      "reshape to print\n",
      "dict_keys(['64', '32', '16', '8', '4', '2', '1'])\n",
      "device =  cuda:0\n"
     ]
    }
   ],
   "source": [
    "# paths\n",
    "data_dir = '../data/toy4a'\n",
    "model_dir = '../model/toy4a'\n",
    "result_dir = '../result/toy4a'\n",
    "\n",
    "obj = tc.training_class(data_dir, model_dir, result_dir,tol=1e-4,n_inputs=4)\n",
    "\n"
   ]
  },
  {
   "cell_type": "code",
   "execution_count": 7,
   "metadata": {},
   "outputs": [
    {
     "name": "stdout",
     "output_type": "stream",
     "text": [
      "reloaded\n",
      "inside train_one_timestep\n",
      "model loaded:  model_L1_D2_noise0.pt\n",
      "Model not trained more\n",
      "inside train_one_timestep\n",
      "model loaded:  model_L1_D4_noise0.pt\n",
      "Model not trained more\n",
      "inside train_one_timestep\n",
      "model loaded:  model_L1_D8_noise0.pt\n",
      "Model not trained more\n",
      "inside train_one_timestep\n",
      "model loaded:  model_L1_D16_noise0.pt\n",
      "Model not trained more\n",
      "inside train_one_timestep\n",
      "model loaded:  model_L1_D32_noise0.pt\n",
      "Model not trained more\n",
      "best step size =  2\n",
      "step_sizes =  [2, 4, 8, 16, 32]\n",
      "mse =  [11.109044790267944, 12.362682259082794, 21.695391273498537, 17.348326754570007, 14.420776844024658]\n",
      "tensor([[[27.5617],\n",
      "         [27.2861],\n",
      "         [27.0001],\n",
      "         ...,\n",
      "         [27.3264],\n",
      "         [27.3264],\n",
      "         [27.3264]],\n",
      "\n",
      "        [[24.1584],\n",
      "         [23.9293],\n",
      "         [23.7941],\n",
      "         ...,\n",
      "         [27.3264],\n",
      "         [27.3264],\n",
      "         [27.3265]],\n",
      "\n",
      "        [[27.5540],\n",
      "         [26.5178],\n",
      "         [25.5058],\n",
      "         ...,\n",
      "         [27.3274],\n",
      "         [27.3269],\n",
      "         [27.3265]],\n",
      "\n",
      "        ...,\n",
      "\n",
      "        [[28.3060],\n",
      "         [27.9366],\n",
      "         [27.5348],\n",
      "         ...,\n",
      "         [27.3263],\n",
      "         [27.3263],\n",
      "         [27.3262]],\n",
      "\n",
      "        [[25.9821],\n",
      "         [25.9787],\n",
      "         [26.0155],\n",
      "         ...,\n",
      "         [27.3264],\n",
      "         [27.3264],\n",
      "         [27.3264]],\n",
      "\n",
      "        [[26.9684],\n",
      "         [25.9757],\n",
      "         [25.0110],\n",
      "         ...,\n",
      "         [27.3271],\n",
      "         [27.3267],\n",
      "         [27.3263]]], grad_fn=<CopySlices>)\n",
      "y_preds shape =  torch.Size([10, 251, 1])\n"
     ]
    },
    {
     "data": {
      "image/png": "[encoded data removed]",
      "text/plain": [
       "<Figure size 432x288 with 1 Axes>"
      ]
     },
     "metadata": {},
     "output_type": "display_data"
    },
    {
     "name": "stdout",
     "output_type": "stream",
     "text": [
      "truth_data shape = torch.Size([10, 501, 2, 2])\n",
      "data shape =  torch.Size([10, 501, 1, 1])\n",
      "truth_data shape =  torch.Size([10, 501, 2, 2])\n",
      "y_preds shape = torch.Size([10, 251, 1])\n",
      "truth_with_step_size shape = torch.Size([10, 251, 2, 2])\n",
      "truth_with_step_size[:, :-3] shape = torch.Size([10, 248, 2, 2])\n",
      "data1 shape = torch.Size([10, 251, 1])\n",
      "data2 shape = torch.Size([10, 251, 2, 2])\n",
      "sizes =  1 2\n",
      "dim_full =  2\n",
      "dim_small =  1\n",
      "dim_full =  2\n",
      "dim_small =  2\n",
      "y_pred shape =  torch.Size([10, 251, 1])\n",
      "truth_with_step_size[:,3:] shape =  torch.Size([10, 248, 2, 2])\n"
     ]
    },
    {
     "name": "stderr",
     "output_type": "stream",
     "text": [
      "/home/kjohnst/Time_Space_multiscale/src/utils.py:389: UserWarning: To copy construct from a tensor, it is recommended to use sourceTensor.clone().detach() or sourceTensor.clone().detach().requires_grad_(True), rather than torch.tensor(sourceTensor).\n",
      "  assert len(data1.shape) == 4\n"
     ]
    },
    {
     "data": {
      "image/png": "[encoded data removed]",
      "text/plain": [
       "<Figure size 432x288 with 1 Axes>"
      ]
     },
     "metadata": {},
     "output_type": "display_data"
    },
    {
     "data": {
      "image/png": "[encoded data removed]",
      "text/plain": [
       "<Figure size 432x288 with 1 Axes>"
      ]
     },
     "metadata": {},
     "output_type": "display_data"
    },
    {
     "data": {
      "image/png": "[encoded data removed]",
      "text/plain": [
       "<Figure size 432x288 with 1 Axes>"
      ]
     },
     "metadata": {},
     "output_type": "display_data"
    },
    {
     "data": {
      "image/png": "[encoded data removed]",
      "text/plain": [
       "<Figure size 432x288 with 1 Axes>"
      ]
     },
     "metadata": {},
     "output_type": "display_data"
    },
    {
     "name": "stdout",
     "output_type": "stream",
     "text": [
      "loss shape =  (2, 2)\n",
      "loss =  [[15.06306252  7.42125108]\n",
      " [ 7.42125099 15.0630623 ]]\n"
     ]
    },
    {
     "data": {
      "image/png": "[encoded data removed]",
      "text/plain": [
       "<Figure size 432x288 with 2 Axes>"
      ]
     },
     "metadata": {},
     "output_type": "display_data"
    },
    {
     "name": "stdout",
     "output_type": "stream",
     "text": [
      "unresolved_list =  tensor([[1., 1.],\n",
      "        [1., 1.]])\n",
      "torch.Size([20, 501, 2, 2])\n"
     ]
    },
    {
     "name": "stderr",
     "output_type": "stream",
     "text": [
      "/home/kjohnst/Time_Space_multiscale/src/training_class.py:65: UserWarning: To copy construct from a tensor, it is recommended to use sourceTensor.clone().detach() or sourceTensor.clone().detach().requires_grad_(True), rather than torch.tensor(sourceTensor).\n",
      "  self.unresolved_dict[str(current_size)] = torch.tensor(unresolved_list).to(self.device)\n"
     ]
    },
    {
     "data": {
      "image/png": "[encoded data removed]",
      "text/plain": [
       "<Figure size 432x288 with 2 Axes>"
      ]
     },
     "metadata": {},
     "output_type": "display_data"
    },
    {
     "name": "stdout",
     "output_type": "stream",
     "text": [
      "appended\n",
      "model_used_dict =  {'1': [[0]]}\n",
      "number of models kept =  1\n"
     ]
    }
   ],
   "source": [
    "import training_class as tc\n",
    "obj, resolved = tc.train_one_step(obj, 1, verbose=True,start_k=1, largest_k=6)"
   ]
  },
  {
   "cell_type": "code",
   "execution_count": 28,
   "metadata": {},
   "outputs": [
    {
     "name": "stdout",
     "output_type": "stream",
     "text": [
      "reloaded\n",
      "plot lowest error\n"
     ]
    },
    {
     "data": {
      "image/png": "[encoded data removed]",
      "text/plain": [
       "<Figure size 432x288 with 1 Axes>"
      ]
     },
     "metadata": {},
     "output_type": "display_data"
    }
   ],
   "source": [
    "import utils\n",
    "utils.plot_lowest_error(obj.model_keep[0])"
   ]
  },
  {
   "cell_type": "code",
   "execution_count": 16,
   "metadata": {},
   "outputs": [
    {
     "name": "stdout",
     "output_type": "stream",
     "text": [
      "y_preds =  torch.Size([10, 251, 1])\n",
      "model.val_data=  torch.Size([10, 501, 1, 1])\n"
     ]
    },
    {
     "data": {
      "text/plain": [
       "[<matplotlib.lines.Line2D at 0x7ff3e815c668>]"
      ]
     },
     "execution_count": 16,
     "metadata": {},
     "output_type": "execute_result"
    },
    {
     "data": {
      "image/png": "[encoded data removed]",
      "text/plain": [
       "<Figure size 432x288 with 1 Axes>"
      ]
     },
     "metadata": {},
     "output_type": "display_data"
    }
   ],
   "source": [
    "model = obj.model_keep[0]\n",
    "y_preds, mse = model.predict_mse()\n",
    "print(\"y_preds = \", y_preds.shape)\n",
    "print(\"model.val_data= \", model.val_data.shape)\n",
    "plt.plot(y_preds[0].detach().numpy())\n",
    "plt.plot(model.val_data[0, ::model.step_size, 0, 0].cpu())"
   ]
  },
  {
   "cell_type": "code",
   "execution_count": null,
   "metadata": {},
   "outputs": [],
   "source": [
    "obj, resolved = tc.train_next_step(obj, 2, verbose=False)"
   ]
  },
  {
   "cell_type": "code",
   "execution_count": null,
   "metadata": {},
   "outputs": [],
   "source": [
    "import training_class as tc\n",
    "obj, resolved = tc.train_next_step(obj, 4, verbose=False)"
   ]
  },
  {
   "cell_type": "code",
   "execution_count": null,
   "metadata": {},
   "outputs": [],
   "source": [
    "import training_class as tc\n",
    "obj, resolved = tc.train_next_step(obj, 8, verbose=True)"
   ]
  },
  {
   "cell_type": "code",
   "execution_count": null,
   "metadata": {},
   "outputs": [],
   "source": [
    "print(obj.model_used_dict['4'])\n",
    "print(obj.model_used_dict['8'])\n"
   ]
  },
  {
   "cell_type": "code",
   "execution_count": null,
   "metadata": {},
   "outputs": [],
   "source": [
    "from scipy.interpolate import interp1d\n",
    "def interpolate(self,current_size,model):\n",
    "    predicted_this, mse = model.predict_mse()\n",
    "    n_points, n_timesteps = predicted_this.shape\n",
    "    interp = np.zeros(predicted_this.shape)\n",
    "    mse_sum = 0\n",
    "    for i in range(interp.shape[0]):\n",
    "        self.model_keep[1].step_size\n",
    "        x = np.arange(4,n_timesteps+4)*model.step_size#current_size\n",
    "        print(\"step_size = \", model.step_size)\n",
    "        y = predicted_this[i]\n",
    "#         y = np.append()\n",
    "        print(x.shape)\n",
    "        print(y.shape)\n",
    "        f = interp1d(x, y)\n",
    "        print((min(x), max(x)))\n",
    "        xnew = np.arange(min(x), max(x))#, num=41, endpoint=True)\n",
    "        print(f(xnew).shape)\n",
    "        plt.plot(x, y, 'o', label = \"old\")\n",
    "        plt.plot(xnew, f(xnew), label = \"new\")\n",
    "#         interp[i] = f(xnew)\n",
    "#         plt.plot(np.arange(16,500), obj.val_dict[str(current_size)][i,16:,0,0], label = \"truth\")\n",
    "        plt.plot(obj.val_dict[str(current_size)][i,:,0,0], label = \"truth\")\n",
    "#         plt.semilogy(np.arange(16,500), np.abs(obj.val_dict[str(current_size)][i,16:,0,0] - f(xnew)))\n",
    "        plt.legend()\n",
    "#         plt.xlim([0,100])\n",
    "        plt.show()\n",
    "    \n",
    "        mse_sum += torch.mean((obj.val_dict[str(current_size)][0,116:216,0,0] - f(xnew)[100:200])**2)\n",
    "        print(\"mse = \", torch.mean((obj.val_dict[str(current_size)][0,116:216,0,0] - f(xnew)[100:200])**2))\n",
    "        \n",
    "        \n",
    "    print(\"mse total= \", mse_sum / 10)\n",
    "    return interp\n",
    "    \n",
    "interp = interpolate(obj,4,obj.model_keep[3])\n"
   ]
  },
  {
   "cell_type": "code",
   "execution_count": null,
   "metadata": {},
   "outputs": [],
   "source": [
    "def predict_mse(self, data=None):\n",
    "    n_inputs = 3\n",
    "    \n",
    "    if data is None:\n",
    "        #use data in model if none imported\n",
    "        data = self.val_data[:, ::self.step_size]\n",
    "            \n",
    "    n_points, n_timesteps, _, _ = data.shape\n",
    "    mse_list = np.zeros(n_points)\n",
    "    pred_list_all = torch.ones(data.shape[:(n_inputs-1)])*(-1)\n",
    "    for num in range(n_points):\n",
    "        y_pred = data[num, :n_inputs, 0, 0].float().T\n",
    "        pred = y_pred\n",
    "        \n",
    "        for i in range(n_timesteps-n_inputs):\n",
    "            y_next = self.forward(y_pred)\n",
    "            pred = torch.cat((pred,y_next))\n",
    "            y_next = torch.cat((y_pred[1:], y_next))\n",
    "            \n",
    "            \n",
    "            y_pred = y_next\n",
    "\n",
    "        mse = np.mean((pred.detach().numpy() - data[num].detach().numpy())**2)\n",
    "        mse_list[num] = mse\n",
    "        pred_list_all[num] = pred\n",
    "    return pred_list_all, np.mean(mse_list)\n",
    "\n",
    "\n",
    "model=obj.model_keep[0]\n",
    "y_pred, mse = predict_mse(model)\n",
    "print(mse)\n",
    "print(\"y_pres = \", y_pred.shape)\n",
    "plt.plot(y_pred[0,:].detach().numpy())\n",
    "plt.plot(model.val_data[:, ::model.step_size][0,:,0,0])"
   ]
  },
  {
   "cell_type": "code",
   "execution_count": null,
   "metadata": {},
   "outputs": [],
   "source": [
    "print(\"y_pres = \", y_pred.shape)\n",
    "plt.plot(y_pred[0,:].detach().numpy())\n",
    "plt.plot(model.val_data[:, ::model.step_size][0,:,0,0])"
   ]
  },
  {
   "cell_type": "code",
   "execution_count": null,
   "metadata": {},
   "outputs": [],
   "source": [
    "model=obj.model_keep[1]\n",
    "num = 0\n",
    "data = model.val_data[:,::model.step_size]\n",
    "print(data.shape)\n",
    "inputs = data[num,:3,0]#, data[num,1:-2,0], data[num,2:-1,0]), axis = 1)\n",
    "# old = inputs[0]\n",
    "print(old)\n",
    "print(inputs.shape)\n",
    "\n",
    "print(inputs[0].float())\n",
    "\n",
    "plt.plot(obj.val_dict['2'][0,:,0,0])\n",
    "plt.plot(np.arange(3)*model.step_size, inputs[0])\n",
    "plt.xlim([0,20])"
   ]
  },
  {
   "cell_type": "code",
   "execution_count": null,
   "metadata": {},
   "outputs": [],
   "source": [
    "def predict(self, current_size):\n",
    "    print(int(self.model_used_dict[str(current_size)][0,0]))\n",
    "    predicted_this, mse = self.model_keep[int(self.model_used_dict[str(current_size)][0,0])].predict_mse()\n",
    "    print(predicted_this.shape)\n",
    "    n_points, n_timesteps = predicted_this.shape\n",
    "    print(n_points)\n",
    "    print(n_timesteps)\n",
    "    predicted = np.zeros((n_points, n_timesteps, current_size, current_size))\n",
    "    print(predicted.shape)\n",
    "    for i in range(current_size):\n",
    "        for j in range(current_size):\n",
    "            print(\"int(self.model_used_dict[str(current_size)][i,j])= \", int(self.model_used_dict[str(current_size)][i,j]))\n",
    "            model = self.model_keep[int(self.model_used_dict[str(current_size)][i][j])]\n",
    "            predicted_this, mse = model.predict_mse()\n",
    "            predicted[:,:,i,j] = predicted_this\n",
    "    return predicted\n",
    "predicted = predict(obj, 4)"
   ]
  },
  {
   "cell_type": "code",
   "execution_count": null,
   "metadata": {},
   "outputs": [],
   "source": [
    "plt.imshow(predicted[0,1])\n",
    "plt.colorbar()"
   ]
  },
  {
   "cell_type": "code",
   "execution_count": null,
   "metadata": {},
   "outputs": [],
   "source": [
    "print(val_dict['1'].shape)\n",
    "plt.plot(val_dict['1'][0,:,0,0], label = '1')\n",
    "plt.plot(val_dict['2'][0,:,0,0], label = '2')\n",
    "# plt.ylim([0,1])\n",
    "mse = torch.mean((val_dict['2'][:,:,0,0] - val_dict['1'][:,:,0,0])**2)\n",
    "print(mse)\n",
    "plt.plot(train_dict['4'][0,:,0,0], label = '4')\n",
    "plt.legend()\n",
    "# plt.plot(train_dict['8'][0,:,0,0])\n",
    "# plt.plot(train_dict['16'][0,:,0,0])\n",
    "# plt.plot(train_dict['32'][0,:,0,0])\n",
    "# plt.plot(train_dict['64'][0,:,0,0])\n",
    "# plt.plot(train_dict['128'][0,:,0,0])\n",
    "# plt.plot(np.cos(np.arange(500)/32*np.pi)/4+.5)"
   ]
  },
  {
   "cell_type": "code",
   "execution_count": null,
   "metadata": {},
   "outputs": [],
   "source": [
    "import utils\n",
    "print(val_dict['1'].shape)\n",
    "resolved, loss, unresolved_list = utils.find_error_4(val_dict['1'][:10], models[idx_lowest], val_dict['2'][:10], plot = True,tol=0.0003)\n",
    "print(loss.shape)\n",
    "print(loss)\n",
    "\n"
   ]
  },
  {
   "cell_type": "code",
   "execution_count": null,
   "metadata": {},
   "outputs": [],
   "source": [
    "plt.imshow(np.log10(loss))\n",
    "plt.title(\"log loss after 1 iteration \")\n",
    "plt.colorbar()"
   ]
  },
  {
   "cell_type": "code",
   "execution_count": null,
   "metadata": {},
   "outputs": [],
   "source": [
    "# print(models[idx_lowest](val_dict['1']).shape)\n",
    "model = models[idx_lowest]\n",
    "y_preds, mse_avg = model.predict_mse()\n",
    "print(mse_avg)\n",
    "print(model.step_size)\n",
    "# print(utils.mse(y_preds, val_dict['128'][:,::8,0,0]))\n",
    "losses = np.zeros((64,64))\n",
    "for i in range(64):\n",
    "    print(i)\n",
    "    for j in range(64):\n",
    "        truth_with_step_size = val_dict['64'][:,::8,i,j]\n",
    "        loss = utils.mse(y_preds, truth_with_step_size[:, :-3])\n",
    "        losses[i,j] = loss"
   ]
  },
  {
   "cell_type": "code",
   "execution_count": null,
   "metadata": {},
   "outputs": [],
   "source": [
    "print(losses)\n",
    "print(np.mean(losses))\n",
    "plt.imshow(losses)\n",
    "plt.colorbar()"
   ]
  },
  {
   "cell_type": "code",
   "execution_count": null,
   "metadata": {},
   "outputs": [],
   "source": [
    "plt.imshow(val_dict['2'][0,0])\n",
    "plt.colorbar()"
   ]
  },
  {
   "cell_type": "code",
   "execution_count": null,
   "metadata": {},
   "outputs": [],
   "source": [
    "\n",
    "unresolved_dict[str(current_size)] = torch.tensor(unresolved_list)\n",
    "\n",
    "print(unresolved_list)"
   ]
  },
  {
   "cell_type": "code",
   "execution_count": null,
   "metadata": {},
   "outputs": [],
   "source": [
    "current_size = 1\n",
    "next_train_data = unresolved_list * train_dict[str(current_size*2)]\n",
    "print(next_train_data.shape)\n",
    "plt.imshow(next_train_data[0,0])\n",
    "plt.colorbar()\n",
    "plt.show()"
   ]
  },
  {
   "cell_type": "code",
   "execution_count": null,
   "metadata": {},
   "outputs": [],
   "source": [
    "model_keep = [models[idx_lowest]]\n",
    "model_used_dict[str(current_size)] = [[0]]\n",
    "\n",
    "print(model_used_dict)"
   ]
  },
  {
   "cell_type": "code",
   "execution_count": null,
   "metadata": {},
   "outputs": [],
   "source": [
    "import utils\n",
    "\n",
    "current_size = 2\n",
    "next_train_data = unresolved_list * train_dict[str(current_size)]\n",
    "\n",
    "model_idx_list = np.ones((current_size, current_size))*(-1) #start with all -1\n",
    "\n",
    "for i in range(current_size):\n",
    "    for j in range(current_size):\n",
    "        print(\"i = \", i, \": j = \", j)\n",
    "        data_this = next_train_data[:,:,i,j]\n",
    "        if (torch.min(data_this) == 0) and (torch.max(data_this) == 0):\n",
    "            print(\"zero, no need to train\")\n",
    "            #don't need to do anything is model is resolved\n",
    "            continue\n",
    "        else:\n",
    "        #see if the error is low enough on already made model\n",
    "            for m, model in enumerate(model_keep):\n",
    "                loss, resolved = utils.find_error_1(data_this, model,tol=0.0003)\n",
    "                step_size = model.step_size\n",
    "                print(\"model \", m, \" has loss = \", loss)\n",
    "                if resolved:\n",
    "                    model_idx_list[i,j] = m\n",
    "                    print(\"Resolved with loss = \", loss, \": model #\", m)\n",
    "                    break\n",
    "                else:\n",
    "                    pass\n",
    "            if not resolved:\n",
    "                print(\"not resolved, fitting new model\")\n",
    "                k = int(np.log2(step_size))\n",
    "                #if no model good, train new model\n",
    "                models, step_sizes, mse_list, idx_lowest, n_forward_list = utils.find_best_timestep(train_dict[str(current_size)][:,:,i,j], \n",
    "                                                              val_dict[str(current_size)][:,:,i,j], \n",
    "                                                              val_dict[str(current_size)][:,:,i,j], current_size,model_dir=model_dir,#make_new = True,\n",
    "                                                              i=i, j=j, start_k = 2, largest_k =3)#, dont_train=False)\n",
    "                \n",
    "                model_keep.append(models[idx_lowest])\n",
    "                model_idx_list[i,j] = len(model_keep)-1\n",
    "model_used_dict[str(current_size)] = model_idx_list"
   ]
  },
  {
   "cell_type": "code",
   "execution_count": null,
   "metadata": {},
   "outputs": [],
   "source": [
    "print(model_idx_list)\n",
    "print(len(model_keep))\n",
    "print(model_used_dict)"
   ]
  },
  {
   "cell_type": "code",
   "execution_count": null,
   "metadata": {},
   "outputs": [],
   "source": [
    "import utils\n",
    "tol = 0.0003\n",
    "#once we have all 4 figured out, need to check the errors on the 2x2 of the 2x2s (the 4x4)\n",
    "unresolved_list_big = np.ones((4,4))*(-1)\n",
    "loss_big = np.ones((4,4))*(-1)\n",
    "all_resolved = True\n",
    "for i in range(2):\n",
    "    for j in range(2):\n",
    "        print(model_used_dict['2'][i][j])\n",
    "        model = model_keep[int(model_used_dict['2'][i][j])]\n",
    "        print(model.model_name)\n",
    "        data_next = val_dict['4'][:,:, i*current_size:(i+1)*current_size, j*current_size:(j+1)*current_size]\n",
    "        resolved, loss, unresolved_list = utils.find_error_4(val_dict['2'][i,j], model, data_next,plot = True, tol=tol)\n",
    "        unresolved_list_big[i*current_size:(i+1)*current_size, j*current_size:(j+1)*current_size] = unresolved_list\n",
    "        loss_big[i*current_size:(i+1)*current_size, j*current_size:(j+1)*current_size] = loss\n",
    "        if not resolved:\n",
    "            all_resolved = False\n",
    "        print(loss)\n",
    "        print(unresolved_list)\n",
    "print(\"all_resolved = \", all_resolved)\n",
    "print(\"unresolved_list_big = \", unresolved_list_big)\n",
    "print(\"loss_big = \", loss_big)\n",
    "plt.imshow(np.log10(loss_big),cmap='Greys')\n",
    "plt.colorbar()\n",
    "plt.title(\"log(loss)\")"
   ]
  },
  {
   "cell_type": "code",
   "execution_count": null,
   "metadata": {},
   "outputs": [],
   "source": [
    "#doing next refine, should be perfect here. \n",
    "import utils\n",
    "\n",
    "\n",
    "current_size = 4\n",
    "print(\"unresolved_list = \", unresolved_list)\n",
    "next_train_data = torch.tensor(unresolved_list_big) * train_dict[str(current_size)]\n",
    "\n",
    "model_idx_list = np.ones((current_size, current_size))*(-1) #start with all -1\n",
    "\n",
    "for i in range(current_size):\n",
    "    for j in range(current_size):\n",
    "        print(\"i = \", i, \": j = \", j)\n",
    "        data_this = next_train_data[:,:,i,j]\n",
    "        if (torch.min(data_this) == 0) and (torch.max(data_this) == 0):\n",
    "            print(\"zero, no need to train\")\n",
    "            #don't need to do anything is model is resolved\n",
    "            continue\n",
    "        else:\n",
    "        #see if the error is low enough on already made model\n",
    "            for m, model in enumerate(model_keep):\n",
    "                loss, resolved = utils.find_error_1(data_this, model)\n",
    "                step_size = model.step_size\n",
    "                print(\"model \", m, \" has loss = \", loss)\n",
    "                if resolved:\n",
    "                    model_idx_list[i,j] = m\n",
    "                    print(\"Resolved with loss = \", loss, \": model #\", m)\n",
    "                    break\n",
    "                else:\n",
    "                    pass\n",
    "            if not resolved:\n",
    "                print(\"not resolved, fitting new model\")\n",
    "                k = int(np.log2(step_size))\n",
    "                #if no model good, train new model\n",
    "                models, step_sizes, mse_list, idx_lowest, n_forward_list = utils.find_best_timestep(train_dict[str(current_size)][:,:,i,j], \n",
    "                                                              val_dict[str(current_size)][:,:,i,j], \n",
    "                                                              val_dict[str(current_size)][:,:,i,j], current_size,model_dir=model_dir,#make_new = True,\n",
    "                                                              i=i, j=j, start_k = max(0,k-1), largest_k = k+2)#, dont_train=False)\n",
    "                \n",
    "                model_keep.append(models[idx_lowest])\n",
    "                model_idx_list[i,j] = len(model_keep)-1\n",
    "model_used_dict[str(current_size)] = model_idx_list"
   ]
  },
  {
   "cell_type": "code",
   "execution_count": null,
   "metadata": {},
   "outputs": [],
   "source": [
    "print(model_idx_list)\n",
    "print(len(model_keep))\n",
    "print(model_used_dict)\n",
    "\n",
    "import utils\n",
    "tol = 2.5e-2\n",
    "#once we have all 4 figured out, need to check the errors on the 2x2 of the 2x2s (the 4x4)\n",
    "unresolved_list_big = np.ones((current_size, current_size))*(-1)\n",
    "all_resolved = True\n",
    "for i in range(1):\n",
    "    for j in range(1):\n",
    "        print(model_used_dict[str(current_size)][i][j])\n",
    "        model = model_keep[int(model_used_dict[str(current_size)][i][j])]\n",
    "        print(model.model_name)\n",
    "        data_next = val_dict[str(current_size)][:,:, i*current_size:(i+1)*current_size, j*current_size:(j+1)*current_size]\n",
    "        print(\"data next shape = \", data_next.shape)\n",
    "        resolved, loss, unresolved_list = utils.find_error_4(val_dict[str(current_size)][i,j], model, data_next,plot = True, tol=tol)\n",
    "        unresolved_list_big[i*current_size:(i+1)*current_size, j*current_size:(j+1)*current_size] = unresolved_list\n",
    "        if not resolved:\n",
    "            all_resolved = False\n",
    "        print(loss)\n",
    "        print(\"unresolved_list= \", unresolved_list)\n",
    "print(\"all_resolved = \", all_resolved)\n",
    "print(\"unresolved_list_big = \", unresolved_list_big)"
   ]
  },
  {
   "cell_type": "code",
   "execution_count": null,
   "metadata": {},
   "outputs": [],
   "source": [
    "import utils\n",
    "model_slow = model_keep[3]\n",
    "data = val_dict['2'][:,:, 1,1]\n",
    "utils.find_error_1(data, model_slow, tol=2e-2, plot=True, title=\"Slow timescale\")\n",
    "\n",
    "model_slow = model_keep[0]\n",
    "data = val_dict['1'][:,:, 0,0]\n",
    "utils.find_error_1(data, model_slow, tol=2e-2, plot=True, title=\"step 1\")\n",
    "\n",
    "\n",
    "model_slow = model_keep[1]\n",
    "data = val_dict['2'][:,:, 0,0]\n",
    "utils.find_error_1(data, model_slow, tol=2e-2, plot=True, title=\"step 2 on split block\")\n",
    "\n",
    "model_fast = model_keep[6]\n",
    "data = val_dict['4'][:,:, 1,1]\n",
    "utils.find_error_1(data, model_fast, tol=2e-2, plot=True, title = \"Fast timescale\")"
   ]
  },
  {
   "cell_type": "code",
   "execution_count": null,
   "metadata": {},
   "outputs": [],
   "source": [
    "print(step_sizes, mse_list, idx_lowest)\n",
    "resolved, loss, unresolved_list = utils.find_error_4(val_dict[str(current_size)][:,:,i,j], \n",
    "                                                               models[idx_lowest], \n",
    "                                                               val_dict[str(current_size*2)][:,:, i*current_size:(i+1)*current_size, j*current_size:(j+1)*current_size])\n",
    "print(loss)    "
   ]
  },
  {
   "cell_type": "code",
   "execution_count": null,
   "metadata": {},
   "outputs": [],
   "source": [
    "model =  models[idx_lowest]\n",
    "print(idx_lowest)\n",
    "n_timesteps = 500\n",
    "n_points = 10\n",
    "dim = 1\n",
    "# plt.plot(model(val_dict[str(current_size)][:,:,i,j].unsqueeze(2).unsqueeze(3))[0,:,0,0].detach().numpy(), label = \"predicted\")\n",
    "print(val_dict[str(current_size)][:,0,i,j].unsqueeze(1).shape)\n",
    "val_data_this = val_dict[str(current_size)][:,0,i,j].unsqueeze(1)\n",
    "predicted = model.uni_scale_forecast(val_data_this, n_steps=n_timesteps-1)\n",
    "print(predicted.shape)\n",
    "predicted_reshape = predicted.reshape((  n_points, n_timesteps-1, dim,dim))\n",
    "plt.plot(predicted_reshape[0,:,0], label = \"predicted\")\n",
    "print(val_dict[str(current_size*2)][:,:, i*current_size:(i+1)*current_size, i*current_size:(i+1)*current_size].shape)\n",
    "# plt.plot(val_dict[str(current_size*2)][:,1:, i*current_size:(i+1)*current_size, i*current_size:(i+1)*current_size][0,:,0,0], label = \"Truth\")\n",
    "\n",
    "plt.plot(val_dict[str(current_size*2)][:,1:, i*current_size:(i+1)*current_size, i*current_size:(i+1)*current_size][0,:,0,1], label = \"Truth\")\n",
    "plt.legend()"
   ]
  },
  {
   "cell_type": "code",
   "execution_count": null,
   "metadata": {},
   "outputs": [],
   "source": [
    "plt.imshow(val_dict[str(current_size*2)][0,0])\n",
    "plt.colorbar()"
   ]
  },
  {
   "cell_type": "code",
   "execution_count": null,
   "metadata": {},
   "outputs": [],
   "source": [
    "step_size = (16+32)/2\n",
    "print(step_size)\n",
    "model = train_one_timestep(int(28), train_dict[str(current_size)][:,:,i,j].unsqueeze(2), \n",
    "                           val_dict[str(current_size)][:,:,i,j].unsqueeze(2), \n",
    "                           val_dict[str(current_size)][:,:,i,j].unsqueeze(2), current_size)\n",
    "#                        dt = 1, n_forward = 5, noise=0, make_new = False, dont_train = True, \n",
    "#                        lr = 1e-3, max_epochs = 10000, batch_size = 50,threshold = 1e-4, \n",
    "#                        model_dir = './models/toy2',i=None, j = None):\n",
    "    \n",
    "#     train_dict[str(current_size)][:,:,i,j], \n",
    "#                                                               val_dict[str(current_size)][:,:,i,j], \n",
    "#                                                               val_dict[str(current_size)][:,:,i,j], current_size,model_dir=model_dir, \n",
    "#                                                               i=i, j=j, start_k = max(0,k-1), largest_k = k+2)"
   ]
  },
  {
   "cell_type": "code",
   "execution_count": null,
   "metadata": {},
   "outputs": [],
   "source": [
    "i = 0\n",
    "j = 1\n",
    "resolved, loss, unresolved_list = find_error_4(val_dict[str(current_size)][:,:,i,j], \n",
    "                                                               model, \n",
    "                                                               val_dict[str(current_size*2)][:,:, i*current_size:(i+1)*current_size, j*current_size:(j+1)*current_size])\n",
    "print(loss)"
   ]
  },
  {
   "cell_type": "code",
   "execution_count": null,
   "metadata": {},
   "outputs": [],
   "source": [
    "# model =  models[idx_lowest]\n",
    "print(idx_lowest)\n",
    "n_timesteps = 500\n",
    "n_points = 10\n",
    "dim = 1\n",
    "# plt.plot(model(val_dict[str(current_size)][:,:,i,j].unsqueeze(2).unsqueeze(3))[0,:,0,0].detach().numpy(), label = \"predicted\")\n",
    "print(val_dict[str(current_size)][:,0,i,j].unsqueeze(1).shape)\n",
    "val_data_this = val_dict[str(current_size)][:,0,i,j].unsqueeze(1)\n",
    "predicted = model.uni_scale_forecast(val_data_this, n_steps=n_timesteps-1)\n",
    "print(predicted.shape)\n",
    "predicted_reshape = predicted.reshape((  n_points, n_timesteps-1, dim,dim))\n",
    "plt.plot(predicted_reshape[0,:,0], label = \"predicted\")\n",
    "print(val_dict[str(current_size*2)][:,:, i*current_size:(i+1)*current_size, i*current_size:(i+1)*current_size].shape)\n",
    "# plt.plot(val_dict[str(current_size*2)][:,1:, i*current_size:(i+1)*current_size, i*current_size:(i+1)*current_size][0,:,0,0], label = \"Truth\")\n",
    "\n",
    "plt.plot(val_dict[str(current_size*2)][:,1:, i*current_size:(i+1)*current_size, i*current_size:(i+1)*current_size][0,:,0,1], label = \"Truth\")\n",
    "plt.legend()"
   ]
  },
  {
   "cell_type": "code",
   "execution_count": null,
   "metadata": {},
   "outputs": [],
   "source": []
  },
  {
   "cell_type": "code",
   "execution_count": null,
   "metadata": {},
   "outputs": [],
   "source": []
  }
 ],
 "metadata": {
  "kernelspec": {
   "display_name": "Python 3",
   "language": "python",
   "name": "python3"
  },
  "language_info": {
   "codemirror_mode": {
    "name": "ipython",
    "version": 3
   },
   "file_extension": ".py",
   "mimetype": "text/x-python",
   "name": "python",
   "nbconvert_exporter": "python",
   "pygments_lexer": "ipython3",
   "version": "3.6.9"
  }
 },
 "nbformat": 4,
 "nbformat_minor": 4
}

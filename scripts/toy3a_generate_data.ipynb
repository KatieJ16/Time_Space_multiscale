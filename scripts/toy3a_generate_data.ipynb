{
 "cells": [
  {
   "cell_type": "markdown",
   "metadata": {},
   "source": [
    "# toy problem 2"
   ]
  },
  {
   "cell_type": "markdown",
   "metadata": {},
   "source": [
    "## Generate data\n",
    "\n",
    "train_data size (100,500,128,128)\n",
    "\n",
    "validation size (10,500,128,128)\n",
    "\n",
    "test size (10,500,128,128)"
   ]
  },
  {
   "cell_type": "code",
   "execution_count": 1,
   "metadata": {},
   "outputs": [],
   "source": [
    "import os\n",
    "# import sys\n",
    "import numpy as np\n",
    "# import scipy as sp\n",
    "# from scipy import integrate\n",
    "from tqdm.notebook import tqdm\n",
    "import matplotlib.pyplot as plt\n",
    "import matplotlib.animation as animation\n",
    "# import torch\n",
    "\n",
    "# module_path = os.path.abspath(os.path.join('../src/'))\n",
    "# if module_path not in sys.path:\n",
    "#     sys.path.append(module_path)\n",
    "    \n",
    "    \n",
    "# import utils"
   ]
  },
  {
   "cell_type": "code",
   "execution_count": 2,
   "metadata": {},
   "outputs": [],
   "source": [
    "# def u(x,y):\n",
    "#     muu = 128/2\n",
    "#     sigma = 10\n",
    "#     return np.cosh((x+muu)/sigma)*np.cosh((y+muu)/sigma)\n",
    "#     dst = np.sqrt(x*x+y*y)\n",
    "#     gauss = np.exp(-( (dst-muu)**2 / ( 2.0 * sigma**2 ) ) )\n",
    "#     return gauss\n",
    "\n",
    "# define two modes\n",
    "def u(x, y, t):\n",
    "    muu = 128/2\n",
    "    sigma = 30\n",
    "    return 1./np.cosh((x-muu)/sigma)/np.cosh((y-muu)/sigma)*np.cos(w0*t)\n",
    "\n",
    "def v(x, y, t):\n",
    "    muu = 128/4\n",
    "    sigma = 5\n",
    "    return 1./np.cosh((x-muu)/sigma)/np.cosh((y-muu)/sigma)*np.cos(w1*t+np.pi/4)\n",
    "\n",
    "# def v(x,y):\n",
    "#     muu = 128/4\n",
    "#     sigma = 5\n",
    "#     dst = np.sqrt(x*x+y*y)\n",
    "#     gauss = np.exp(-( (dst-muu)**2 / ( 2.0 * sigma**2 ) ) )\n",
    "#     return gauss\n",
    "\n",
    "def make_data(n_points, file_name, data_dir = './data/toy3a', n_time_steps = 500, dim = 128, num_periods_big = 8, w0=0.5, w1=1.0, width_small = 64):\n",
    "    \"\"\"\n",
    "    Makes data for toy2c\n",
    "    \n",
    "    Inputs:\n",
    "    n_points: int, how many data points \n",
    "    file_name: str, name of file to save\n",
    "    data_dir = './data/toy2': str, directory of where to store\n",
    "    n_time_steps = 500: int, how many time steps per data point\n",
    "    dim = 128: int, how many data points per dim, while be same in both x and y directions\n",
    "    num_periods_big = 8: int, how many periods of the slow scale\n",
    "    w0 = 0.5: float, frequency of slow scale\n",
    "    w1 = 1.0: float, frequency of fast scale\n",
    "    width_small = 8: width of small (fast) scale\n",
    "    \n",
    "    Output: \n",
    "    data: size (n_points,n_time_steps,dim, dim) will be returned and saved to file data_dir+file_name\n",
    "    \n",
    "    \"\"\"\n",
    "    print(width_small)\n",
    "    print(\"Making data\")\n",
    "    x = np.arange(dim)\n",
    "    y = np.arange(dim)\n",
    "    data = np.zeros((n_points, n_time_steps, dim, dim))\n",
    "\n",
    "    for i in tqdm(range(n_points)):\n",
    "        t_start = np.random.uniform(high=4*np.pi)\n",
    "        t = np.linspace(t_start, num_periods_big*4*np.pi + t_start, n_time_steps)\n",
    "\n",
    "\n",
    "        xgrid, ygrid, tgrid = np.meshgrid(x, y, t)\n",
    "        \n",
    "        Phi = u(xgrid, ygrid, tgrid) + v(xgrid, ygrid, tgrid)\n",
    "        \n",
    "\n",
    "#         Phi = np.cos(w0*tgrid)\n",
    "\n",
    "#         Phi[1:3, 0:2,:] = np.cos(w1*tgrid[1:3, 0:2,:]+np.pi/4)\n",
    "        scaled_Phi = (Phi.T - Phi.min()) / (Phi.max() - Phi.min())\n",
    "#         print(\"scaled_Phi shape = \", scaled_Phi.shape)\n",
    "#         plt.imshow(scaled_Phi[0])\n",
    "#         plt.colorbar()\n",
    "#         plt.show()\n",
    "#         hji\n",
    "        data[i] = scaled_Phi\n",
    "\n",
    "    print(\"making done, saving to \", os.path.join(data_dir, file_name))\n",
    "    np.save(os.path.join(data_dir, file_name), data)\n",
    "    print(\"done\")\n",
    "    \n",
    "    return data"
   ]
  },
  {
   "cell_type": "code",
   "execution_count": null,
   "metadata": {},
   "outputs": [
    {
     "name": "stdout",
     "output_type": "stream",
     "text": [
      "2\n",
      "Making data\n"
     ]
    },
    {
     "data": {
      "application/vnd.jupyter.widget-view+json": {
       "model_id": "20704c2b266e4b9d9ec32db0e7b3081c",
       "version_major": 2,
       "version_minor": 0
      },
      "text/plain": [
       "  0%|          | 0/100 [00:00<?, ?it/s]"
      ]
     },
     "metadata": {},
     "output_type": "display_data"
    }
   ],
   "source": [
    "n_train_points = 100\n",
    "n_val_points = 10\n",
    "n_test_points = 10\n",
    "n_time_steps = 500\n",
    "dim = 128\n",
    "width_small = 2#int(dim/2)\n",
    "\n",
    "# params\n",
    "w0 = 0.5\n",
    "w1 = 1.0\n",
    "# width_small = 8\n",
    "num_periods_big = 8\n",
    "\n",
    "\n",
    "# paths\n",
    "data_dir = '../data/toy3a'\n",
    "result_dir = '../result/toy3a'\n",
    "\n",
    "\n",
    "x = np.arange(dim)\n",
    "y = np.arange(dim)\n",
    "train_data = make_data(n_train_points, 'train_data.npy', data_dir = data_dir,width_small=width_small,dim=dim) \n",
    "print(train_data.shape)\n",
    "plt.imshow(train_data[0,0])\n",
    "plt.colorbar()\n",
    "plt.show()\n",
    "val_data = make_data(n_val_points, 'val_data.npy', data_dir = data_dir,width_small=width_small,dim=dim) \n",
    "test_data = make_data(n_test_points, 'test_data.npy', data_dir=data_dir,width_small=width_small,dim=dim) \n",
    "\n"
   ]
  },
  {
   "cell_type": "code",
   "execution_count": null,
   "metadata": {},
   "outputs": [],
   "source": [
    "print(train_data.shape)\n",
    "plt.imshow(train_data[2,0])\n",
    "plt.colorbar()"
   ]
  },
  {
   "cell_type": "code",
   "execution_count": null,
   "metadata": {},
   "outputs": [],
   "source": [
    "print(train_data.shape)\n",
    "mean_to_plot = np.mean(train_data[0], axis = (1,2))\n",
    "# mean_to_plot = np.mean(train_data[0,:, :64,:64], axis = (1,2))\n",
    "print(mean_to_plot.shape)\n",
    "plt.plot(mean_to_plot)\n",
    "\n",
    "# mean_to_plot = np.mean(train_data[0], axis = (1,2))\n",
    "mean_to_plot = np.mean(train_data[0,:, :64,:64], axis = (1,2))\n",
    "print(mean_to_plot.shape)\n",
    "plt.plot(mean_to_plot)\n",
    "\n",
    "# # mean_to_plot = np.mean(train_data[0], axis = (1,2))\n",
    "# mean_to_plot = np.mean(train_data[0,:, :32,:32], axis = (1,2))\n",
    "# print(mean_to_plot.shape)\n",
    "# plt.plot(mean_to_plot)"
   ]
  },
  {
   "cell_type": "code",
   "execution_count": null,
   "metadata": {},
   "outputs": [],
   "source": [
    "def animate(snapshots, normalize = True, file_name = \"animation.gif\"):\n",
    "    \"\"\"\n",
    "    Makes an animation of snapshots in time\n",
    "    \n",
    "    inputs:\n",
    "    snapshots: np.array of size (n_time_steps,1, dim, dim)\n",
    "    normalize = True: whether to fix axis between 0 and 1 or not\n",
    "    file_name = \"animation.gif\": file name of where to save gif\n",
    "    \n",
    "    outputs:\n",
    "    no returned output\n",
    "    gif saved to file_name\n",
    "    \"\"\"\n",
    "\n",
    "\n",
    "    fps = 30\n",
    "    nSeconds = len(snapshots)/fps\n",
    "    \n",
    "    # First set up the figure, the axis, and the plot element we want to animate\n",
    "    fig = plt.figure( figsize=(8,8) )\n",
    "\n",
    "    a = snapshots[0,:,:,:][0].T\n",
    "    if normalize:\n",
    "        im = plt.imshow(a, interpolation='none', aspect='auto', vmin=0.0, vmax=1.0)\n",
    "    else:\n",
    "        im = plt.imshow(a, interpolation='none', aspect='auto', vmin=np.min(snapshots), vmax=np.max(snapshots))\n",
    "    plt.colorbar()\n",
    "\n",
    "    print(\"Animating, may take a little while...\")\n",
    "\n",
    "    def animate_func(i):\n",
    "        if i % fps == 0:\n",
    "            print( '.', end ='' )\n",
    "\n",
    "        im.set_array(snapshots[i,:,:,:,][0].T)\n",
    "        return [im]\n",
    "\n",
    "    anim = animation.FuncAnimation(\n",
    "                                   fig,\n",
    "                                   animate_func,\n",
    "                                   frames = int(nSeconds * fps),\n",
    "                                   interval = 1000 / fps, # in ms\n",
    "                                   )\n",
    "    writergif = animation.PillowWriter(fps=30)\n",
    "    anim.save(file_name, writer=writergif)\n",
    "\n",
    "    print('Done! gif saved to ', file_name)\n"
   ]
  },
  {
   "cell_type": "code",
   "execution_count": null,
   "metadata": {},
   "outputs": [],
   "source": [
    "animate(train_data[0].reshape(n_time_steps,1, dim, dim), file_name = os.path.join(result_dir,'train_data.gif'))"
   ]
  },
  {
   "cell_type": "code",
   "execution_count": null,
   "metadata": {},
   "outputs": [],
   "source": []
  }
 ],
 "metadata": {
  "kernelspec": {
   "display_name": "Python 3 (ipykernel)",
   "language": "python",
   "name": "python3"
  },
  "language_info": {
   "codemirror_mode": {
    "name": "ipython",
    "version": 3
   },
   "file_extension": ".py",
   "mimetype": "text/x-python",
   "name": "python",
   "nbconvert_exporter": "python",
   "pygments_lexer": "ipython3",
   "version": "3.9.5"
  }
 },
 "nbformat": 4,
 "nbformat_minor": 4
}

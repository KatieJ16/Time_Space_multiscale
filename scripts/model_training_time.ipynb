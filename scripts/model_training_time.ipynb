{
 "cells": [
  {
   "cell_type": "markdown",
   "metadata": {},
   "source": [
    "## Train ResNets"
   ]
  },
  {
   "cell_type": "markdown",
   "metadata": {},
   "source": [
    "### created by Yuying Liu, 04/30/2020"
   ]
  },
  {
   "cell_type": "markdown",
   "metadata": {},
   "source": [
    "This script is a template for training neural network time-steppers for different systems and different time scales. To reproduce the results in the paper, one needs to obtain all 11 neural network models for each nonlinear system under study. For setup details, please refer to Table 2 in the paper."
   ]
  },
  {
   "cell_type": "code",
   "execution_count": 1,
   "metadata": {},
   "outputs": [],
   "source": [
    "import os\n",
    "import sys\n",
    "import torch\n",
    "import numpy as np\n",
    "\n",
    "import matplotlib.pyplot as plt\n",
    "module_path = os.path.abspath(os.path.join('../src/'))\n",
    "if module_path not in sys.path:\n",
    "    sys.path.append(module_path)\n",
    "    \n",
    "import ResNet as net"
   ]
  },
  {
   "cell_type": "code",
   "execution_count": 2,
   "metadata": {},
   "outputs": [],
   "source": [
    "# adjustables\n",
    "\n",
    "\n",
    "t = np.linspace(0, 8*np.pi, 500)\n",
    "k = 0                         # model index: should be in {0, 2, ..., 10}\n",
    "dt = t[1] - t[0]              # time unit: 0.0005 for Lorenz and 0.01 for others\n",
    "system = 'toy1_longer'\n",
    "noise = 0.0                   # noise percentage: 0.00, 0.01 or 0.02\n",
    "\n",
    "lr = 1e-3                     # learning rate\n",
    "max_epoch = 100000            # the maximum training epoch \n",
    "batch_size = 320              # training batch size\n",
    "min_k = 0\n",
    "max_k = 5"
   ]
  },
  {
   "cell_type": "code",
   "execution_count": 3,
   "metadata": {},
   "outputs": [
    {
     "name": "stdout",
     "output_type": "stream",
     "text": [
      "(5000, 1, 3, 3)\n"
     ]
    }
   ],
   "source": [
    "# paths\n",
    "data_dir = os.path.join('../data/', system)\n",
    "model_dir = os.path.join('../model/', system)\n",
    "\n",
    "level = 0\n",
    "filter_group_num = 0\n",
    "encoded = np.load(os.path.join(data_dir, 'data_L{}_{}.npy'.format(level, filter_group_num)))\n",
    "\n",
    "print(encoded.shape)\n",
    "n_steps, _, n_per_dim, _ = encoded.shape\n",
    "total_dim = n_per_dim **2\n",
    "arch = [total_dim, 128, 128, 128, total_dim] \n",
    "\n",
    "# global const\n",
    "n_forward = 5\n",
    "step_size = 2**k"
   ]
  },
  {
   "cell_type": "code",
   "execution_count": 4,
   "metadata": {},
   "outputs": [
    {
     "name": "stdout",
     "output_type": "stream",
     "text": [
      "(5000, 1, 3, 3)\n"
     ]
    }
   ],
   "source": [
    "print(encoded.shape)"
   ]
  },
  {
   "cell_type": "code",
   "execution_count": 6,
   "metadata": {},
   "outputs": [
    {
     "name": "stdout",
     "output_type": "stream",
     "text": [
      "(1, 3000, 9)\n",
      "(1, 1000, 9)\n",
      "(1, 1000, 9)\n",
      "1\n",
      "1\n",
      "1\n",
      "[[0.7210292  0.73232096 0.7309484  ... 0.7134194  0.7242388  0.7210751 ]\n",
      " [0.7200456  0.7312804  0.72991467 ... 0.7106514  0.7213417  0.72009134]\n",
      " [0.71710485 0.72816896 0.726824   ... 0.7060499  0.71650434 0.7171498 ]\n",
      " ...\n",
      " [0.71538645 0.72635096 0.72501814 ... 0.7073065  0.7177841  0.71543103]\n",
      " [0.719103   0.730283   0.7289241  ... 0.71217996 0.72291726 0.71914846]\n",
      " [0.72087187 0.7321544  0.7307829  ... 0.71374214 0.7245721  0.72091764]]\n",
      "5\n",
      "step_size*n_forward+1 =  6\n"
     ]
    },
    {
     "name": "stderr",
     "output_type": "stream",
     "text": [
      "C:\\Users\\16kat\\anaconda3\\lib\\site-packages\\torch\\cuda\\__init__.py:52: UserWarning: CUDA initialization: Found no NVIDIA driver on your system. Please check that you have an NVIDIA GPU and installed a driver from http://www.nvidia.com/Download/index.aspx (Triggered internally at  ..\\c10\\cuda\\CUDAFunctions.cpp:100.)\n",
      "  return torch._C._cuda_getDeviceCount() > 0\n"
     ]
    }
   ],
   "source": [
    "#divide data\n",
    "percent_train = 0.6\n",
    "percent_val = 0.2\n",
    "percent_test = 1-percent_train-percent_val\n",
    "assert percent_test >= 0\n",
    "\n",
    "\n",
    "train_break = int(n_steps * percent_train)\n",
    "val_break = int(n_steps * (percent_train + percent_val))\n",
    "\n",
    "train_data = encoded[:train_break,0,:,:]\n",
    "train_data = train_data.reshape((1,len(train_data),n_per_dim**2))\n",
    "\n",
    "val_data = encoded[train_break:val_break,0,:,:] \n",
    "val_data = val_data.reshape((1,len(val_data),n_per_dim**2))\n",
    "test_data = encoded[val_break:,0,:,:]\n",
    "test_data = test_data.reshape((1,len(test_data),n_per_dim**2))\n",
    "\n",
    "\n",
    "print(train_data.shape)\n",
    "print(val_data.shape)\n",
    "print(test_data.shape)\n",
    "n_train = train_data.shape[0]\n",
    "n_val = val_data.shape[0]\n",
    "n_test = test_data.shape[0]\n",
    "print(n_train)\n",
    "print(n_val)\n",
    "print(n_test)\n",
    "\n",
    "\n",
    "print(n_forward)\n",
    "print(\"step_size*n_forward+1 = \", step_size*n_forward+1)\n",
    "# create dataset object\n",
    "dataset = net.DataSet(train_data, val_data, test_data, dt, step_size, n_forward)"
   ]
  },
  {
   "cell_type": "code",
   "execution_count": 11,
   "metadata": {},
   "outputs": [
    {
     "name": "stdout",
     "output_type": "stream",
     "text": [
      "k =  8\n",
      "torch.Size([1, 9])\n",
      "create model model_D256_noise0.0_0.pt ...\n",
      "self.n_dim=  9\n",
      "dataset.n_dim =  9\n",
      "epoch 1000, training loss 4.0479997551301494e-05, validation loss 4.8220685130218044e-05\n",
      "(--> new model saved @ epoch 1000)\n",
      "epoch 2000, training loss 2.5171135348500684e-05, validation loss 7.928694685688242e-05\n",
      "epoch 3000, training loss 2.1627847672789358e-05, validation loss 8.024937415029854e-05\n",
      "epoch 4000, training loss 2.6440631700097583e-05, validation loss 6.376430974341929e-05\n",
      "epoch 5000, training loss 0.00015018825070001185, validation loss 0.0002995535032823682\n",
      "epoch 6000, training loss 2.2553202143171802e-05, validation loss 4.475070454645902e-05\n",
      "(--> new model saved @ epoch 6000)\n",
      "epoch 7000, training loss 3.471951276878826e-05, validation loss 7.577236101496965e-05\n",
      "epoch 8000, training loss 0.000160580690135248, validation loss 4.3616404582280666e-05\n",
      "(--> new model saved @ epoch 8000)\n",
      "epoch 9000, training loss 4.702523256128188e-06, validation loss 4.647011883207597e-05\n",
      "epoch 10000, training loss 8.075342520896811e-06, validation loss 5.3976054914528504e-05\n",
      "epoch 11000, training loss 4.379209713079035e-05, validation loss 3.5821896744892e-05\n",
      "(--> new model saved @ epoch 11000)\n",
      "epoch 12000, training loss 8.870916644809768e-06, validation loss 4.289461503503844e-05\n",
      "epoch 13000, training loss 2.1103329345351085e-05, validation loss 5.517571480595507e-05\n",
      "epoch 14000, training loss 1.027531561703654e-05, validation loss 4.241242277203128e-05\n",
      "epoch 15000, training loss 5.967922788840951e-06, validation loss 7.445724622812122e-05\n",
      "epoch 16000, training loss 1.5962188626872376e-05, validation loss 8.690072718309239e-05\n",
      "epoch 17000, training loss 5.965968739474192e-06, validation loss 4.558946602628566e-05\n",
      "epoch 18000, training loss 3.4011884508799994e-06, validation loss 6.219612259883434e-05\n",
      "epoch 19000, training loss 1.1482188710942864e-05, validation loss 4.700775389210321e-05\n",
      "epoch 20000, training loss 6.973871677473653e-06, validation loss 7.58074238547124e-05\n",
      "epoch 21000, training loss 0.0003949138626921922, validation loss 0.0006036204867996275\n",
      "epoch 22000, training loss 2.8785550512111513e-06, validation loss 5.763119406765327e-05\n",
      "epoch 23000, training loss 2.20866627387295e-06, validation loss 6.428342021536082e-05\n",
      "epoch 24000, training loss 9.30065269244551e-08, validation loss 4.3572748836595565e-05\n",
      "epoch 25000, training loss 2.8494788750776934e-08, validation loss 4.383637133287266e-05\n",
      "epoch 26000, training loss 1.788782810763223e-06, validation loss 5.4303789511322975e-05\n",
      "epoch 27000, training loss 4.1758385123102926e-06, validation loss 5.061093543190509e-05\n",
      "epoch 28000, training loss 1.5874211101163382e-07, validation loss 4.411229383549653e-05\n",
      "epoch 29000, training loss 1.1931539312115547e-08, validation loss 5.253970448393375e-05\n",
      "epoch 30000, training loss 4.1180853865840916e-11, validation loss 5.250491085462272e-05\n",
      "k =  9\n"
     ]
    },
    {
     "ename": "AssertionError",
     "evalue": "",
     "output_type": "error",
     "traceback": [
      "\u001b[1;31m---------------------------------------------------------------------------\u001b[0m",
      "\u001b[1;31mAssertionError\u001b[0m                            Traceback (most recent call last)",
      "\u001b[1;32m<ipython-input-11-a603e3be39ac>\u001b[0m in \u001b[0;36m<module>\u001b[1;34m\u001b[0m\n\u001b[0;32m      2\u001b[0m     \u001b[0mprint\u001b[0m\u001b[1;33m(\u001b[0m\u001b[1;34m\"k = \"\u001b[0m\u001b[1;33m,\u001b[0m \u001b[0mk\u001b[0m\u001b[1;33m)\u001b[0m\u001b[1;33m\u001b[0m\u001b[1;33m\u001b[0m\u001b[0m\n\u001b[0;32m      3\u001b[0m     \u001b[0mstep_size\u001b[0m \u001b[1;33m=\u001b[0m \u001b[1;36m2\u001b[0m\u001b[1;33m**\u001b[0m\u001b[0mk\u001b[0m\u001b[1;33m\u001b[0m\u001b[1;33m\u001b[0m\u001b[0m\n\u001b[1;32m----> 4\u001b[1;33m     \u001b[0mdataset\u001b[0m \u001b[1;33m=\u001b[0m \u001b[0mnet\u001b[0m\u001b[1;33m.\u001b[0m\u001b[0mDataSet\u001b[0m\u001b[1;33m(\u001b[0m\u001b[0mtrain_data\u001b[0m\u001b[1;33m,\u001b[0m \u001b[0mval_data\u001b[0m\u001b[1;33m,\u001b[0m \u001b[0mtest_data\u001b[0m\u001b[1;33m,\u001b[0m \u001b[0mdt\u001b[0m\u001b[1;33m,\u001b[0m \u001b[0mstep_size\u001b[0m\u001b[1;33m,\u001b[0m \u001b[0mn_forward\u001b[0m\u001b[1;33m)\u001b[0m\u001b[1;33m\u001b[0m\u001b[1;33m\u001b[0m\u001b[0m\n\u001b[0m\u001b[0;32m      5\u001b[0m     \u001b[0mprint\u001b[0m\u001b[1;33m(\u001b[0m\u001b[0mdataset\u001b[0m\u001b[1;33m.\u001b[0m\u001b[0mtrain_x\u001b[0m\u001b[1;33m.\u001b[0m\u001b[0mshape\u001b[0m\u001b[1;33m)\u001b[0m\u001b[1;33m\u001b[0m\u001b[1;33m\u001b[0m\u001b[0m\n\u001b[0;32m      6\u001b[0m     \u001b[0mmodel_name\u001b[0m \u001b[1;33m=\u001b[0m \u001b[1;34m'model_D{}_noise{}_0.pt'\u001b[0m\u001b[1;33m.\u001b[0m\u001b[0mformat\u001b[0m\u001b[1;33m(\u001b[0m\u001b[0mstep_size\u001b[0m\u001b[1;33m,\u001b[0m \u001b[0mnoise\u001b[0m\u001b[1;33m)\u001b[0m\u001b[1;33m\u001b[0m\u001b[1;33m\u001b[0m\u001b[0m\n",
      "\u001b[1;32m~\\OneDrive - acornonsite.com\\Time_Space_multiscale\\src\\utils_time.py\u001b[0m in \u001b[0;36m__init__\u001b[1;34m(self, train_data, val_data, test_data, dt, step_size, n_forward)\u001b[0m\n\u001b[0;32m     18\u001b[0m         \u001b[0mn_val\u001b[0m\u001b[1;33m,\u001b[0m \u001b[0mval_steps\u001b[0m\u001b[1;33m,\u001b[0m \u001b[0m_\u001b[0m \u001b[1;33m=\u001b[0m \u001b[0mval_data\u001b[0m\u001b[1;33m.\u001b[0m\u001b[0mshape\u001b[0m\u001b[1;33m\u001b[0m\u001b[1;33m\u001b[0m\u001b[0m\n\u001b[0;32m     19\u001b[0m         \u001b[0mn_test\u001b[0m\u001b[1;33m,\u001b[0m \u001b[0mtest_steps\u001b[0m\u001b[1;33m,\u001b[0m \u001b[0m_\u001b[0m \u001b[1;33m=\u001b[0m \u001b[0mtest_data\u001b[0m\u001b[1;33m.\u001b[0m\u001b[0mshape\u001b[0m\u001b[1;33m\u001b[0m\u001b[1;33m\u001b[0m\u001b[0m\n\u001b[1;32m---> 20\u001b[1;33m         \u001b[1;32massert\u001b[0m \u001b[0mstep_size\u001b[0m\u001b[1;33m*\u001b[0m\u001b[0mn_forward\u001b[0m\u001b[1;33m+\u001b[0m\u001b[1;36m1\u001b[0m \u001b[1;33m<=\u001b[0m \u001b[0mtrain_steps\u001b[0m \u001b[1;32mand\u001b[0m \u001b[0mstep_size\u001b[0m\u001b[1;33m*\u001b[0m\u001b[0mn_forward\u001b[0m\u001b[1;33m+\u001b[0m\u001b[1;36m1\u001b[0m \u001b[1;33m<=\u001b[0m \u001b[0mval_steps\u001b[0m\u001b[1;33m\u001b[0m\u001b[1;33m\u001b[0m\u001b[0m\n\u001b[0m\u001b[0;32m     21\u001b[0m \u001b[1;33m\u001b[0m\u001b[0m\n\u001b[0;32m     22\u001b[0m         \u001b[1;31m# params\u001b[0m\u001b[1;33m\u001b[0m\u001b[1;33m\u001b[0m\u001b[1;33m\u001b[0m\u001b[0m\n",
      "\u001b[1;31mAssertionError\u001b[0m: "
     ]
    }
   ],
   "source": [
    "for k in range(min_k, max_k)\n",
    "    print(\"k = \", k)\n",
    "    step_size = 2**k\n",
    "    dataset = net.DataSet(train_data, val_data, test_data, dt, step_size, n_forward)\n",
    "    print(dataset.train_x.shape)\n",
    "    model_name = 'model_D{}_noise{}_0.pt'.format(step_size, noise)\n",
    "\n",
    "    # create/load model object\n",
    "    try:\n",
    "        device = 'cuda' if torch.cuda.is_available() else 'cpu'\n",
    "        model = torch.load(os.path.join(model_dir, model_name), map_location=device)\n",
    "        model.device = device\n",
    "    except:\n",
    "        print('create model {} ...'.format(model_name))\n",
    "        model = net.ResNet(arch=arch, dt=dt, step_size=step_size)\n",
    "\n",
    "    # training\n",
    "    model.train_net(dataset, max_epoch=30000, batch_size=batch_size, lr=lr,\n",
    "                    model_path=os.path.join(model_dir, model_name))"
   ]
  },
  {
   "cell_type": "code",
   "execution_count": null,
   "metadata": {},
   "outputs": [],
   "source": [
    " \n",
    "\n",
    "."
   ]
  },
  {
   "cell_type": "code",
   "execution_count": null,
   "metadata": {},
   "outputs": [],
   "source": []
  },
  {
   "cell_type": "code",
   "execution_count": null,
   "metadata": {},
   "outputs": [],
   "source": []
  },
  {
   "cell_type": "code",
   "execution_count": null,
   "metadata": {},
   "outputs": [],
   "source": []
  },
  {
   "cell_type": "code",
   "execution_count": null,
   "metadata": {},
   "outputs": [],
   "source": []
  }
 ],
 "metadata": {
  "kernelspec": {
   "display_name": "Python 3",
   "language": "python",
   "name": "python3"
  },
  "language_info": {
   "codemirror_mode": {
    "name": "ipython",
    "version": 3
   },
   "file_extension": ".py",
   "mimetype": "text/x-python",
   "name": "python",
   "nbconvert_exporter": "python",
   "pygments_lexer": "ipython3",
   "version": "3.8.5"
  }
 },
 "nbformat": 4,
 "nbformat_minor": 2
}

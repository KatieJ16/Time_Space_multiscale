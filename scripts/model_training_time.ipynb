{
 "cells": [
  {
   "cell_type": "markdown",
   "metadata": {},
   "source": [
    "## Train ResNets"
   ]
  },
  {
   "cell_type": "markdown",
   "metadata": {},
   "source": [
    "### created by Yuying Liu, 04/30/2020"
   ]
  },
  {
   "cell_type": "markdown",
   "metadata": {},
   "source": [
    "This script is a template for training neural network time-steppers for different systems and different time scales. To reproduce the results in the paper, one needs to obtain all 11 neural network models for each nonlinear system under study. For setup details, please refer to Table 2 in the paper."
   ]
  },
  {
   "cell_type": "code",
   "execution_count": 1,
   "metadata": {},
   "outputs": [],
   "source": [
    "import os\n",
    "import sys\n",
    "import torch\n",
    "import numpy as np\n",
    "\n",
    "import matplotlib.pyplot as plt\n",
    "module_path = os.path.abspath(os.path.join('../src/'))\n",
    "if module_path not in sys.path:\n",
    "    sys.path.append(module_path)\n",
    "    \n",
    "import ResNet as net"
   ]
  },
  {
   "cell_type": "code",
   "execution_count": 2,
   "metadata": {},
   "outputs": [],
   "source": [
    "# adjustables\n",
    "\n",
    "t = np.linspace(0, 8*np.pi, 500)\n",
    "k = 0                         # model index: should be in {0, 2, ..., 10}\n",
    "dt = t[1] - t[0]#0.01# 0.0005                     # time unit: 0.0005 for Lorenz and 0.01 for others\n",
    "system = 'toy1_longer'#_4x4'         # system name: 'Hyperbolic', 'Cubic', 'VanDerPol', 'Hopf' or 'Lorenz'\n",
    "# total_dim = 16\n",
    "noise = 0.0                   # noise percentage: 0.00, 0.01 or 0.02\n",
    "\n",
    "lr = 1e-3                     # learning rate\n",
    "max_epoch = 100000            # the maximum training epoch \n",
    "batch_size = 320              # training batch size\n",
    "# arch = [total_dim, 128, 128, 128, total_dim]  # architecture of the neural network"
   ]
  },
  {
   "cell_type": "code",
   "execution_count": 3,
   "metadata": {},
   "outputs": [
    {
     "name": "stdout",
     "output_type": "stream",
     "text": [
      "(5000, 1, 3, 3)\n"
     ]
    }
   ],
   "source": [
    "# paths\n",
    "data_dir = os.path.join('../data/', system)\n",
    "model_dir = os.path.join('../model/', system)\n",
    "\n",
    "level = 0\n",
    "filter_group_num = 0\n",
    "encoded = np.load(os.path.join(data_dir, 'data_L{}_{}.npy'.format(level, filter_group_num)))\n",
    "\n",
    "print(encoded.shape)\n",
    "n_steps, _, n_per_dim, _ = encoded.shape\n",
    "total_dim = n_per_dim **2\n",
    "arch = [total_dim, 128, 128, 128, total_dim] \n",
    "\n",
    "# global const\n",
    "n_forward = 5\n",
    "step_size = 2**k"
   ]
  },
  {
   "cell_type": "code",
   "execution_count": null,
   "metadata": {},
   "outputs": [],
   "source": []
  },
  {
   "cell_type": "code",
   "execution_count": 5,
   "metadata": {},
   "outputs": [
    {
     "name": "stdout",
     "output_type": "stream",
     "text": [
      "(5000, 1, 3, 3)\n",
      "(1, 2500, 9)\n",
      "(1, 1250, 9)\n",
      "(1, 1250, 9)\n",
      "1\n",
      "1\n",
      "1\n",
      "[[0.7210292  0.73232096 0.7309484  ... 0.7134194  0.7242388  0.7210751 ]\n",
      " [0.7200456  0.7312804  0.72991467 ... 0.7106514  0.7213417  0.72009134]\n",
      " [0.71710485 0.72816896 0.726824   ... 0.7060499  0.71650434 0.7171498 ]\n",
      " ...\n",
      " [0.714909   0.72584575 0.72451633 ... 0.706664   0.7171077  0.7149534 ]\n",
      " [0.71881855 0.72998196 0.72862506 ... 0.7118338  0.72255224 0.71886396]\n",
      " [0.72078323 0.73206073 0.7306898  ... 0.71374124 0.7245696  0.72082907]]\n",
      "step_size*n_forward+1 =  6\n"
     ]
    },
    {
     "name": "stderr",
     "output_type": "stream",
     "text": [
      "C:\\Users\\16kat\\anaconda3\\lib\\site-packages\\torch\\cuda\\__init__.py:52: UserWarning: CUDA initialization: Found no NVIDIA driver on your system. Please check that you have an NVIDIA GPU and installed a driver from http://www.nvidia.com/Download/index.aspx (Triggered internally at  ..\\c10\\cuda\\CUDAFunctions.cpp:100.)\n",
      "  return torch._C._cuda_getDeviceCount() > 0\n"
     ]
    }
   ],
   "source": [
    "# load data\n",
    "data = np.load(os.path.join(data_dir, \"data_L0_0.npy \"))#\"train_data.npy\"))#inputs_2x2.npy\"))#'train_noise{}.npy'.format(noise)))\n",
    "\n",
    "print(data.shape)\n",
    "\n",
    "(100, 500, 4)\n",
    "train_data = encoded[:2500,0,:,:].reshape((1,2500,9))\n",
    "val_data = encoded[2500:3750,0,:,:].reshape((1,1250,9))\n",
    "test_data = encoded[3750:,0,:,:].reshape((1,1250,9))\n",
    "\n",
    "# print(np.load(\"../../data/Hyperbolic/train_noise0.0.npy\").shape)\n",
    "# data = np.expand_dims(data, 1)\n",
    "# train_data = data[:75]\n",
    "# val_data = data[75:90]\n",
    "# test_data = data[90:]\n",
    "# val_data = np.load(os.path.join(data_dir, 'val_noise{}.npy'.format(noise)))\n",
    "# test_data = np.load(os.path.join(data_dir, 'test_noise{}.npy'.format(noise)))\n",
    "print(train_data.shape)\n",
    "print(val_data.shape)\n",
    "print(test_data.shape)\n",
    "n_train = train_data.shape[0]\n",
    "n_val = val_data.shape[0]\n",
    "n_test = test_data.shape[0]\n",
    "print(n_train)\n",
    "print(n_val)\n",
    "print(n_test)\n",
    "\n",
    "print(train_data[0,:,:])\n",
    "\n",
    "print(\"step_size*n_forward+1 = \", step_size*n_forward+1)\n",
    "# create dataset object\n",
    "dataset = net.DataSet(train_data, val_data, test_data, dt, step_size, n_forward)"
   ]
  },
  {
   "cell_type": "code",
   "execution_count": null,
   "metadata": {},
   "outputs": [],
   "source": [
    "# for i in range(100):\n",
    "#     plt.plot(train_data[i,:,0], train_data[i,:,1], 'b')"
   ]
  },
  {
   "cell_type": "code",
   "execution_count": 7,
   "metadata": {},
   "outputs": [
    {
     "name": "stdout",
     "output_type": "stream",
     "text": [
      "k =  0\n",
      "torch.Size([1, 9])\n",
      "create model model_D1_noise0.0_0.pt ...\n",
      "self.n_dim=  9\n",
      "dataset.n_dim =  9\n",
      "epoch 1000, training loss 6.411835329345195e-06, validation loss 1.3198136912251357e-05\n",
      "(--> new model saved @ epoch 1000)\n",
      "epoch 2000, training loss 5.035839876654791e-06, validation loss 1.101105135603575e-05\n",
      "(--> new model saved @ epoch 2000)\n",
      "epoch 3000, training loss 4.23353321821196e-06, validation loss 9.77457057160791e-06\n",
      "(--> new model saved @ epoch 3000)\n",
      "epoch 4000, training loss 8.16800366010284e-06, validation loss 1.4408931747311726e-05\n",
      "epoch 5000, training loss 4.42626378571731e-06, validation loss 1.0213742825726513e-05\n",
      "epoch 6000, training loss 4.017501851194538e-06, validation loss 9.335253707831725e-06\n",
      "(--> new model saved @ epoch 6000)\n",
      "epoch 7000, training loss 2.960645133498474e-06, validation loss 7.593992449983489e-06\n",
      "(--> new model saved @ epoch 7000)\n",
      "epoch 8000, training loss 2.4726446099521127e-06, validation loss 6.771351308998419e-06\n",
      "(--> new model saved @ epoch 8000)\n",
      "epoch 9000, training loss 3.384688398000435e-06, validation loss 8.37284551380435e-06\n",
      "epoch 10000, training loss 2.739256615313934e-06, validation loss 7.276056749105919e-06\n",
      "epoch 11000, training loss 2.310575837327633e-06, validation loss 6.588300493604038e-06\n",
      "(--> new model saved @ epoch 11000)\n",
      "epoch 12000, training loss 1.9908513877453515e-06, validation loss 6.0554184528882615e-06\n",
      "(--> new model saved @ epoch 12000)\n",
      "epoch 13000, training loss 1.5813693607924506e-06, validation loss 5.329408850229811e-06\n",
      "(--> new model saved @ epoch 13000)\n",
      "epoch 14000, training loss 1.213322775583947e-06, validation loss 4.6242221287684515e-06\n",
      "(--> new model saved @ epoch 14000)\n",
      "epoch 15000, training loss 1.8953943481392344e-06, validation loss 5.010780569136841e-06\n",
      "epoch 16000, training loss 1.1392035048629623e-06, validation loss 4.516431545198429e-06\n",
      "(--> new model saved @ epoch 16000)\n",
      "epoch 17000, training loss 1.5535847524006385e-06, validation loss 5.215689725446282e-06\n",
      "epoch 18000, training loss 1.24036785109638e-06, validation loss 4.674774572777096e-06\n",
      "epoch 19000, training loss 8.686242836120073e-06, validation loss 2.290183510922361e-05\n",
      "epoch 20000, training loss 1.3451766562866396e-06, validation loss 4.84198062622454e-06\n",
      "epoch 21000, training loss 9.168819588012411e-07, validation loss 4.022415851068217e-06\n",
      "(--> new model saved @ epoch 21000)\n",
      "epoch 22000, training loss 4.5438504457706586e-05, validation loss 2.4639517505420372e-05\n",
      "epoch 23000, training loss 9.979827382267104e-07, validation loss 4.187792001175694e-06\n",
      "epoch 24000, training loss 6.995776402618503e-07, validation loss 3.55346719516092e-06\n",
      "(--> new model saved @ epoch 24000)\n",
      "epoch 25000, training loss 1.5266510672518052e-05, validation loss 3.184195884387009e-05\n",
      "epoch 26000, training loss 9.441246220376343e-07, validation loss 4.241968781570904e-06\n",
      "epoch 27000, training loss 2.2985209398029838e-06, validation loss 5.749615411332343e-06\n",
      "epoch 28000, training loss 1.3934270555182593e-06, validation loss 4.772635747940512e-06\n",
      "epoch 29000, training loss 1.7645630578044802e-05, validation loss 3.563493010005914e-05\n",
      "epoch 30000, training loss 7.112108164619713e-07, validation loss 3.501517767290352e-06\n",
      "(--> new model saved @ epoch 30000)\n",
      "k =  1\n",
      "torch.Size([1, 9])\n",
      "create model model_D2_noise0.0_0.pt ...\n",
      "self.n_dim=  9\n",
      "dataset.n_dim =  9\n",
      "epoch 1000, training loss 6.81242163409479e-05, validation loss 9.018623677548021e-05\n",
      "(--> new model saved @ epoch 1000)\n",
      "epoch 2000, training loss 1.4818585441389587e-05, validation loss 3.4774926461977884e-05\n",
      "(--> new model saved @ epoch 2000)\n",
      "epoch 3000, training loss 1.210755181091372e-05, validation loss 1.1616080882959068e-05\n",
      "(--> new model saved @ epoch 3000)\n",
      "epoch 4000, training loss 3.9468191971536726e-05, validation loss 0.00010684451990528032\n",
      "epoch 5000, training loss 3.117925734841265e-05, validation loss 3.277689393144101e-05\n",
      "epoch 6000, training loss 8.214735316869337e-06, validation loss 3.389194171177223e-05\n",
      "epoch 7000, training loss 3.163254223181866e-05, validation loss 3.707632640725933e-05\n",
      "epoch 8000, training loss 0.00015529805386904627, validation loss 6.111527909524739e-05\n",
      "epoch 9000, training loss 1.2419921404216439e-05, validation loss 2.947895700344816e-05\n",
      "epoch 10000, training loss 1.4447881767409854e-05, validation loss 5.831652742926963e-05\n",
      "epoch 11000, training loss 5.741533186665038e-06, validation loss 2.3281972971744835e-05\n",
      "epoch 12000, training loss 4.982596692570951e-06, validation loss 2.2578757125302218e-05\n",
      "epoch 13000, training loss 9.689009857538622e-06, validation loss 2.6384203010820784e-05\n",
      "epoch 14000, training loss 4.222411916998681e-06, validation loss 2.138906165782828e-05\n",
      "epoch 15000, training loss 5.167441486264579e-06, validation loss 2.251802470709663e-05\n",
      "epoch 16000, training loss 5.571350357058691e-06, validation loss 2.2923848518985324e-05\n",
      "epoch 17000, training loss 3.6532251215248834e-06, validation loss 2.028395283559803e-05\n",
      "epoch 18000, training loss 4.1422063077334315e-06, validation loss 2.4314842448802665e-05\n",
      "epoch 19000, training loss 5.038918516220292e-06, validation loss 9.425984899280593e-06\n",
      "(--> new model saved @ epoch 19000)\n",
      "epoch 20000, training loss 2.192723968619248e-06, validation loss 2.0293660782044753e-05\n",
      "epoch 21000, training loss 5.03193041367922e-06, validation loss 2.359965401410591e-05\n",
      "epoch 22000, training loss 4.082363830093527e-06, validation loss 2.2537624317919835e-05\n",
      "epoch 23000, training loss 3.627417754614726e-05, validation loss 5.9993337345076725e-05\n",
      "epoch 24000, training loss 9.8730597528629e-06, validation loss 2.3047588911140338e-05\n",
      "epoch 25000, training loss 5.592114121100167e-06, validation loss 2.3762047931086272e-05\n",
      "epoch 26000, training loss 6.533701525768265e-05, validation loss 5.380884977057576e-05\n",
      "epoch 27000, training loss 3.1010974907985656e-06, validation loss 2.6836367396754213e-05\n",
      "epoch 28000, training loss 2.8024685434502317e-06, validation loss 2.01892398763448e-05\n",
      "epoch 29000, training loss 1.4783732694922946e-05, validation loss 3.430598007980734e-05\n",
      "epoch 30000, training loss 2.2925191842659842e-06, validation loss 1.9374998373677954e-05\n",
      "k =  2\n",
      "torch.Size([1, 9])\n",
      "create model model_D4_noise0.0_0.pt ...\n",
      "self.n_dim=  9\n",
      "dataset.n_dim =  9\n",
      "epoch 1000, training loss 3.916109926649369e-05, validation loss 0.00010210720938630402\n",
      "(--> new model saved @ epoch 1000)\n",
      "epoch 2000, training loss 2.469874198141042e-05, validation loss 5.8570250985212624e-05\n",
      "(--> new model saved @ epoch 2000)\n",
      "epoch 3000, training loss 6.832042799942428e-06, validation loss 3.457955608610064e-05\n",
      "(--> new model saved @ epoch 3000)\n",
      "epoch 4000, training loss 1.2462407539715059e-05, validation loss 3.546180232660845e-05\n",
      "epoch 5000, training loss 5.4080905101727694e-05, validation loss 7.347591599682346e-05\n",
      "epoch 6000, training loss 1.536643503641244e-05, validation loss 5.0940241635544226e-05\n",
      "epoch 7000, training loss 2.559053791628685e-05, validation loss 3.2561245461693034e-05\n",
      "(--> new model saved @ epoch 7000)\n",
      "epoch 8000, training loss 6.483197012130404e-06, validation loss 3.7895024433964863e-05\n",
      "epoch 9000, training loss 1.9205090211471543e-05, validation loss 5.080574192106724e-05\n",
      "epoch 10000, training loss 1.4624561117670964e-05, validation loss 4.3429619836388156e-05\n",
      "epoch 11000, training loss 4.560495654004626e-06, validation loss 3.757007289095782e-05\n",
      "epoch 12000, training loss 6.304272119450616e-06, validation loss 3.672367529361509e-05\n",
      "epoch 13000, training loss 9.767242772795726e-06, validation loss 7.060979260131717e-05\n",
      "epoch 14000, training loss 3.2105192531162174e-06, validation loss 4.917680780636147e-05\n",
      "epoch 15000, training loss 2.8357549126667436e-06, validation loss 3.701674722833559e-05\n",
      "epoch 16000, training loss 1.2321649592195172e-05, validation loss 8.66086411406286e-05\n",
      "epoch 17000, training loss 1.3146334822522476e-05, validation loss 8.743848593439907e-05\n",
      "epoch 18000, training loss 8.145654646796174e-06, validation loss 2.2469283067039214e-05\n",
      "(--> new model saved @ epoch 18000)\n",
      "epoch 19000, training loss 1.973254484255449e-06, validation loss 3.8492613384732977e-05\n",
      "epoch 20000, training loss 2.11857741305721e-06, validation loss 3.939551243092865e-05\n",
      "epoch 21000, training loss 1.5873130223553744e-06, validation loss 4.769837323692627e-05\n"
     ]
    },
    {
     "name": "stdout",
     "output_type": "stream",
     "text": [
      "epoch 22000, training loss 6.587547886738321e-06, validation loss 2.6488316507311538e-05\n",
      "epoch 23000, training loss 2.4113944618875394e-06, validation loss 4.0017577703110874e-05\n",
      "epoch 24000, training loss 5.304891601554118e-07, validation loss 3.9581685996381566e-05\n",
      "epoch 25000, training loss 2.0693228179879952e-06, validation loss 4.080068538314663e-05\n",
      "epoch 26000, training loss 1.2589952120833914e-06, validation loss 3.1042123737279326e-05\n",
      "epoch 27000, training loss 3.0307603537949035e-06, validation loss 3.150305929011665e-05\n",
      "epoch 28000, training loss 1.8119228570867563e-06, validation loss 3.860657670884393e-05\n",
      "epoch 29000, training loss 1.2578316272993106e-06, validation loss 4.703145896201022e-05\n",
      "epoch 30000, training loss 1.3375926073422306e-06, validation loss 4.2929499613819644e-05\n"
     ]
    }
   ],
   "source": [
    "for k in range(3):#3,8):#[0, 1, 2, 3, 4, 5]:\n",
    "    print(\"k = \", k)\n",
    "    step_size = 2**k\n",
    "    dataset = net.DataSet(train_data, val_data, test_data, dt, step_size, n_forward)\n",
    "    print(dataset.train_x.shape)\n",
    "    model_name = 'model_D{}_noise{}_0.pt'.format(step_size, noise)\n",
    "\n",
    "    # create/load model object\n",
    "    try:\n",
    "        device = 'cuda' if torch.cuda.is_available() else 'cpu'\n",
    "        model = torch.load(os.path.join(model_dir, model_name), map_location=device)\n",
    "        model.device = device\n",
    "    except:\n",
    "        print('create model {} ...'.format(model_name))\n",
    "        model = net.ResNet(arch=arch, dt=dt, step_size=step_size)\n",
    "\n",
    "    # training\n",
    "    model.train_net(dataset, max_epoch=30000, batch_size=batch_size, lr=lr,\n",
    "                    model_path=os.path.join(model_dir, model_name))"
   ]
  },
  {
   "cell_type": "code",
   "execution_count": null,
   "metadata": {},
   "outputs": [],
   "source": [
    " \n",
    "\n",
    "."
   ]
  },
  {
   "cell_type": "code",
   "execution_count": null,
   "metadata": {},
   "outputs": [],
   "source": []
  },
  {
   "cell_type": "code",
   "execution_count": null,
   "metadata": {},
   "outputs": [],
   "source": []
  },
  {
   "cell_type": "code",
   "execution_count": null,
   "metadata": {},
   "outputs": [],
   "source": []
  },
  {
   "cell_type": "code",
   "execution_count": null,
   "metadata": {},
   "outputs": [],
   "source": []
  }
 ],
 "metadata": {
  "kernelspec": {
   "display_name": "Python 3",
   "language": "python",
   "name": "python3"
  },
  "language_info": {
   "codemirror_mode": {
    "name": "ipython",
    "version": 3
   },
   "file_extension": ".py",
   "mimetype": "text/x-python",
   "name": "python",
   "nbconvert_exporter": "python",
   "pygments_lexer": "ipython3",
   "version": "3.8.5"
  }
 },
 "nbformat": 4,
 "nbformat_minor": 2
}

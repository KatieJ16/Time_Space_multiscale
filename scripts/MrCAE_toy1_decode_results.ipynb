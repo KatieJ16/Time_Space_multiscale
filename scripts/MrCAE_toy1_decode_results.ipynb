{
 "cells": [
  {
   "cell_type": "markdown",
   "metadata": {},
   "source": [
    "## Toy Model 1: 2 spatial modes with different oscillating frequencies"
   ]
  },
  {
   "cell_type": "markdown",
   "metadata": {},
   "source": [
    "### Created by Yuying Liu, 09/23/2019"
   ]
  },
  {
   "cell_type": "markdown",
   "metadata": {},
   "source": [
    "$$\\Phi(x, t) = u(x)cos(\\omega_0 t) + v(x)cos(\\omega_1 t + \\frac{\\pi}{4})$$"
   ]
  },
  {
   "cell_type": "code",
   "execution_count": 1,
   "metadata": {},
   "outputs": [],
   "source": [
    "# imports\n",
    "import os\n",
    "import sys\n",
    "import torch\n",
    "import pickle\n",
    "import numpy as np\n",
    "import matplotlib.pyplot as plt\n",
    "import matplotlib.animation as animation\n",
    "\n",
    "module_path = os.path.abspath(os.path.join('../src/'))\n",
    "if module_path not in sys.path:\n",
    "    sys.path.append(module_path)\n",
    "    \n",
    "    \n",
    "import torch_cae_multilevel_V4 as net"
   ]
  },
  {
   "cell_type": "markdown",
   "metadata": {},
   "source": [
    "## MrCAE"
   ]
  },
  {
   "cell_type": "markdown",
   "metadata": {},
   "source": [
    "Below is the progressive training framework. \n",
    "One could have flexible control over each training step: low-level models are cheap to obtain, and higher level models are built based on them -- one can always revert back to the previous level and adjust the parameters to re-train the model if it is not satisfying. "
   ]
  },
  {
   "cell_type": "code",
   "execution_count": 34,
   "metadata": {},
   "outputs": [
    {
     "name": "stdout",
     "output_type": "stream",
     "text": [
      "(1, 1249, 9)\n",
      "(1249, 3, 3)\n",
      "self.data.shape =  torch.Size([1249, 1, 3, 3])\n"
     ]
    }
   ],
   "source": [
    "# init model & load data\n",
    "data_path = '../data/toy1_longer'#toy1.npy'\n",
    "model_path = '../model/toy1_longer/space_models'\n",
    "result_path = '../result/toy1_longer/'\n",
    "\n",
    "level=0\n",
    "filter_group_num=0\n",
    "\n",
    "to_decode =np.load(os.path.join(result_path, \"result_L{}_{}.npy\".format(level, filter_group_num)))\n",
    "# np.save(full_data_path, scaled_Phi.T)\n",
    "print(to_decode.shape)\n",
    "\n",
    "to_decode = to_decode.reshape(1249,3,3)\n",
    "print(to_decode.shape)\n",
    "\n",
    "to_decode_path = os.path.join(data_path, 'to_decode.npy')\n",
    "np.save(to_decode_path, to_decode)\n",
    "\n",
    "# np.save()\n",
    "dataset = net.MultiScaleDynamicsDataSet(to_decode_path, n_levels=5)"
   ]
  },
  {
   "cell_type": "code",
   "execution_count": 35,
   "metadata": {},
   "outputs": [
    {
     "name": "stdout",
     "output_type": "stream",
     "text": [
      "model names: model_L{level}_{index}\n",
      "model_L0_0\n"
     ]
    }
   ],
   "source": [
    "# trained models at different levels\n",
    "models = {}\n",
    "print('model names: model_L{level}_{index}')\n",
    "for file_name in sorted(os.listdir(model_path)):\n",
    "#     print(file_name.split('.'))\n",
    "    model_name, _ = file_name.split('.')\n",
    "    print(model_name)\n",
    "    models[model_name] = torch.load(os.path.join(model_path, file_name))\n",
    "\n",
    "# inds = np.array(sorted(dataset.test_inds))\n",
    "# dataset.test_inds = inds\n",
    "# n_snapshots = len(inds)\n",
    "# n_samples = 6\n",
    "# n_step = n_snapshots // 6\n",
    "\n",
    "model = models['model_L0_0']"
   ]
  },
  {
   "cell_type": "code",
   "execution_count": 36,
   "metadata": {},
   "outputs": [
    {
     "name": "stdout",
     "output_type": "stream",
     "text": [
      "to_decode_raw shape =  (1249, 3, 3)\n",
      "to_decode shape =  torch.Size([1249, 1, 3, 3])\n",
      "torch.Size([1249, 1, 7, 7])\n"
     ]
    }
   ],
   "source": [
    "def apply_local_op(data, mode='conv', ave=True):\n",
    "    \"\"\"\n",
    "    :param data: data to be processed\n",
    "    :param device: which device is the data placed in?\n",
    "    :param mode: string, 'conv' or 'deconv'\n",
    "    :param ave: if to use local average or sample the center\n",
    "    :return: processed data\n",
    "    \"\"\"\n",
    "    print(\" data.size()= \",  data.size())\n",
    "    in_channels, out_channels, n_per_dim, _ = data.size()\n",
    "    n = min(in_channels, out_channels)\n",
    "    print(\"data.size() = \", data.size())\n",
    "#     in_channels= 1\n",
    "#     out_channels = 1\n",
    "#     n = 1\n",
    "    op = torch.nn.Conv2d(out_channels, out_channels, 3, stride=2, padding=0)\n",
    "    op.weight.data = torch.zeros(op.weight.data.size())\n",
    "    print(\"op.weight.data = \", op.weight.data.size())\n",
    "    op.bias.data = torch.zeros(op.bias.data.size())\n",
    "    for i in range(n):\n",
    "        print(\"op.weight.data[i, i, 1, 1].size() = \", op.weight.data[i, i, 1, 1].size())\n",
    "        op.weight.data[i, i, 1, 1] = torch.ones(op.weight.data[i, i, 1, 1].size())\n",
    "\n",
    "    # make them non-trainable\n",
    "    for param in op.parameters():\n",
    "        param.requires_grad = False\n",
    "\n",
    "    transformed = np.zeros((in_channels, out_channels, n_per_dim//2, n_per_dim//2))\n",
    "    print(\"transformed shape = \", transformed.shape)\n",
    "#     for i in range(in_channels//)\n",
    "#     print(op(data).shape)\n",
    "    return op(data)\n",
    "\n",
    "\n",
    "#save encoded data\n",
    "\n",
    "to_decode_path = os.path.join(data_path, 'to_decode.npy')\n",
    "to_decode_raw = np.load(to_decode_path)\n",
    "print(\"to_decode_raw shape = \", to_decode_raw.shape)\n",
    "# ghj\n",
    "\n",
    "n_levels = 5\n",
    "level = 0\n",
    "# print(data.shape)\n",
    "to_decode = torch.tensor(to_decode_raw).unsqueeze(1).float()\n",
    "print(\"to_decode shape = \", to_decode.shape)\n",
    "\n",
    "# to_encode_right_size = torch.zeros((to_encode.size()))\n",
    "\n",
    "# n_runs, _,_,_ = to_encode.size()\n",
    "\n",
    "# for r in range(n_runs):\n",
    "#     print(\"r = \", r)\n",
    "# to_encode_this = to_encode[0].unsqueeze(1).float()\n",
    "# for i in range(n_levels - level - 1):\n",
    "#     to_decode = apply_local_op((to_decode), ave=False)\n",
    "# #     to_encode_right_size[r, :,0,:,:] = to_encode_data\n",
    "    \n",
    "# print(\"to_encode shape = \", to_decode.shape)\n",
    "\n",
    "\n",
    "# return train_data\n",
    "    \n",
    "# np.save(full_data_path, scaled_Phi.T)\n",
    "\n",
    "# dataset_encode = net.MultiScaleDynamicsDataSet(to_encode_path, n_levels=5)\n",
    "\n",
    "level = 0\n",
    "filter_group_num = 0\n",
    "model = models['model_L{}_{}'.format(level, filter_group_num)]\n",
    "# data = dataset_encode.obtain_data_at_current_level_all(level=0)\n",
    "\n",
    "decoded = model.decode(to_decode, model.cur_level)#, verbose = True)\n",
    "# decoded = model.decode(encoded, model.cur_level)\n",
    "\n",
    "print(decoded.shape)\n",
    "# print(decoded.shape)\n",
    "\n",
    "#save encoded data \n",
    "# np.save(os.path.join(data_path, 'data_L{}_{}'.format(level, filter_group_num)), encoded.detach().numpy())"
   ]
  },
  {
   "cell_type": "code",
   "execution_count": 37,
   "metadata": {},
   "outputs": [
    {
     "name": "stdout",
     "output_type": "stream",
     "text": [
      "torch.Size([1249, 1, 7, 7])\n"
     ]
    },
    {
     "data": {
      "image/png": "[encoded data removed]",
      "text/plain": [
       "<Figure size 432x288 with 2 Axes>"
      ]
     },
     "metadata": {
      "needs_background": "light"
     },
     "output_type": "display_data"
    },
    {
     "name": "stdout",
     "output_type": "stream",
     "text": [
      "to_encode_raw shape =  (5000, 127, 127)\n",
      "to_encode shape =  torch.Size([5000, 1, 127, 127])\n"
     ]
    },
    {
     "data": {
      "image/png": "[encoded data removed]",
      "text/plain": [
       "<Figure size 432x288 with 2 Axes>"
      ]
     },
     "metadata": {
      "needs_background": "light"
     },
     "output_type": "display_data"
    }
   ],
   "source": [
    "print(decoded.shape)\n",
    "plt.imshow(decoded[-1,0].detach().numpy())\n",
    "plt.colorbar()\n",
    "plt.show()\n",
    "\n",
    "\n",
    "to_encode_path = os.path.join(data_path, 'to_encode.npy')\n",
    "# to_encode_raw = np.load(to_encode_path)\n",
    "print(\"to_encode_raw shape = \", to_encode_raw.shape)\n",
    "# ghj\n",
    "\n",
    "n_levels = 5\n",
    "level = 0\n",
    "# print(data.shape)\n",
    "to_encode = torch.tensor(to_encode_raw).unsqueeze(1).float()\n",
    "print(\"to_encode shape = \", to_encode.shape)\n",
    "\n",
    "plt.imshow(to_encode[-1,0])\n",
    "plt.colorbar()\n",
    "plt.show()\n",
    "\n",
    "# truth = "
   ]
  },
  {
   "cell_type": "code",
   "execution_count": 38,
   "metadata": {},
   "outputs": [],
   "source": [
    "def animate(snapshots, file_name = \"animation.gif\"):\n",
    "\n",
    "\n",
    "    fps = 30\n",
    "    nSeconds = len(snapshots)/fps\n",
    "    fig = plt.figure( figsize=(8,8) )\n",
    "\n",
    "#     print(np.min(snapshots))\n",
    "    a = snapshots[0,0,:,:].T\n",
    "    im = plt.imshow(a, interpolation='none', aspect='auto', vmin=np.min(snapshots), vmax=np.max(snapshots))\n",
    "    plt.colorbar()\n",
    "    \n",
    "    print(\"Animating, may take a little while...\")\n",
    "\n",
    "    def animate_func(i):\n",
    "        if i % fps == 0:\n",
    "            print( '.', end ='' )\n",
    "\n",
    "        im.set_array(snapshots[i,0,:,:,].T)\n",
    "        return [im]\n",
    "\n",
    "    anim = animation.FuncAnimation(\n",
    "                                   fig, \n",
    "                                   animate_func, \n",
    "                                   frames = int(nSeconds * fps),\n",
    "                                   interval = 1000 / fps, # in ms\n",
    "                                   )\n",
    "    writergif = animation.PillowWriter(fps=30)\n",
    "    anim.save(file_name, writer=writergif)#, fps=30)\n",
    "\n",
    "\n",
    "    print('Done! gif saved to ', file_name)\n",
    "\n",
    "    \n"
   ]
  },
  {
   "cell_type": "code",
   "execution_count": 39,
   "metadata": {},
   "outputs": [
    {
     "name": "stdout",
     "output_type": "stream",
     "text": [
      "torch.Size([1249, 1, 7, 7])\n"
     ]
    }
   ],
   "source": [
    "print(decoded.shape)\n",
    "# animate(decoded.detach().numpy(), \"L0_0_test_results.gif\")"
   ]
  },
  {
   "cell_type": "code",
   "execution_count": 40,
   "metadata": {},
   "outputs": [
    {
     "name": "stdout",
     "output_type": "stream",
     "text": [
      "torch.Size([1249, 1, 7, 7])\n",
      "truth shape = "
     ]
    },
    {
     "name": "stderr",
     "output_type": "stream",
     "text": [
      "<ipython-input-40-87a93534e1ee>:8: UserWarning: To copy construct from a tensor, it is recommended to use sourceTensor.clone().detach() or sourceTensor.clone().detach().requires_grad_(True), rather than torch.tensor(sourceTensor).\n",
      "  truth = torch.tensor(truth)#.T.unsqueeze(1).float()\n"
     ]
    },
    {
     "name": "stdout",
     "output_type": "stream",
     "text": [
      " torch.Size([1249, 1, 127, 127])\n",
      " data.size()=  torch.Size([1249, 1, 127, 127])\n",
      "data.size() =  torch.Size([1249, 1, 127, 127])\n",
      "op.weight.data =  torch.Size([1, 1, 3, 3])\n",
      "op.weight.data[i, i, 1, 1].size() =  torch.Size([])\n",
      "transformed shape =  (1249, 1, 63, 63)\n",
      " data.size()=  torch.Size([1249, 1, 63, 63])\n",
      "data.size() =  torch.Size([1249, 1, 63, 63])\n",
      "op.weight.data =  torch.Size([1, 1, 3, 3])\n",
      "op.weight.data[i, i, 1, 1].size() =  torch.Size([])\n",
      "transformed shape =  (1249, 1, 31, 31)\n",
      " data.size()=  torch.Size([1249, 1, 31, 31])\n",
      "data.size() =  torch.Size([1249, 1, 31, 31])\n",
      "op.weight.data =  torch.Size([1, 1, 3, 3])\n",
      "op.weight.data[i, i, 1, 1].size() =  torch.Size([])\n",
      "transformed shape =  (1249, 1, 15, 15)\n",
      " data.size()=  torch.Size([1249, 1, 15, 15])\n",
      "data.size() =  torch.Size([1249, 1, 15, 15])\n",
      "op.weight.data =  torch.Size([1, 1, 3, 3])\n",
      "op.weight.data[i, i, 1, 1].size() =  torch.Size([])\n",
      "transformed shape =  (1249, 1, 7, 7)\n",
      "truth shape =  torch.Size([1249, 1, 7, 7])\n"
     ]
    }
   ],
   "source": [
    "print(decoded.shape)\n",
    "truth = to_encode[:len(decoded)]\n",
    "\n",
    "# print(truth.shape)\n",
    "\n",
    "n_levels = 5\n",
    "level = 0\n",
    "truth = torch.tensor(truth)#.T.unsqueeze(1).float()\n",
    "\n",
    "print(\"truth shape = \", truth.shape)\n",
    "\n",
    "for i in range(n_levels - level - 1):\n",
    "    truth = apply_local_op(truth, ave=False)\n",
    "    \n",
    "print(\"truth shape = \", truth.shape)\n",
    "\n",
    "device = 'cuda' if torch.cuda.is_available() else 'cpu'\n",
    "fully_resolved, loss, resolved_map = net.check_pixel_level_loss(decoded, truth, 0.001, device, w=0.5)"
   ]
  },
  {
   "cell_type": "code",
   "execution_count": 41,
   "metadata": {},
   "outputs": [
    {
     "name": "stdout",
     "output_type": "stream",
     "text": [
      "d1.size =  torch.Size([1249, 1, 7, 7])\n",
      "d1.size =  torch.Size([1249, 1, 49])\n",
      "torch.Size([1249, 1, 1])\n"
     ]
    }
   ],
   "source": [
    "def check_pixel_level_loss(d1, d2, tol, device, w=0.5):\n",
    "    \"\"\"\n",
    "    :param d1: data 1\n",
    "    :param d2: data 2\n",
    "    :param tol: a float, represent the tolerance\n",
    "    :param device: device\n",
    "    :param w: loss = w * mse_loss + (1 - w) * max_loss\n",
    "    :return: a boolean value, if error satisfies the tolerance,\n",
    "             a torch tensor of overall loss distribution,\n",
    "             and a boolean torch tensor\n",
    "    \"\"\"\n",
    "    assert isinstance(tol, float), print('tol should be a float!')\n",
    "\n",
    "    n_timesteps, _, n_per_dim, _ = d1.size()\n",
    "    print(\"d1.size = \", d1.size())\n",
    "    d1 = d1.flatten(start_dim = 2)\n",
    "    print(\"d1.size = \", d1.size())\n",
    "    d2 = d2.flatten(start_dim = 2)\n",
    "    loss1 = torch.mean((d1 - d2)**2, dim=-1, keepdim=True)\n",
    "    loss2 = torch.max((d1 - d2)**2, dim=-1, keepdim=True)[0]\n",
    "    loss = w * loss1 + (1 - w) * loss2\n",
    "#     loss_summary = apply_local_op(loss, device).squeeze()\n",
    "\n",
    "    return loss.max() <= tol, loss, loss <= tol\n",
    "\n",
    "fully_resolved, loss, resolved_map = check_pixel_level_loss(decoded, truth, 0.001, device, w=0.5)\n",
    "\n",
    "print(loss.shape)"
   ]
  },
  {
   "cell_type": "code",
   "execution_count": 45,
   "metadata": {},
   "outputs": [
    {
     "data": {
      "text/plain": [
       "[<matplotlib.lines.Line2D at 0x20961a4e910>]"
      ]
     },
     "execution_count": 45,
     "metadata": {},
     "output_type": "execute_result"
    },
    {
     "data": {
      "image/png": "[encoded data removed]",
      "text/plain": [
       "<Figure size 432x288 with 1 Axes>"
      ]
     },
     "metadata": {
      "needs_background": "light"
     },
     "output_type": "display_data"
    }
   ],
   "source": [
    "plt.semilogy(loss[:,0,0].detach().numpy())"
   ]
  },
  {
   "cell_type": "code",
   "execution_count": null,
   "metadata": {},
   "outputs": [],
   "source": [
    "plt.imshow(decoded[0,0].detach().numpy())\n",
    "plt.colorbar()\n",
    "plt.show()\n",
    "\n",
    "plt.imshow(truth[0,0].detach().numpy())\n",
    "plt.colorbar()\n",
    "plt.show()\n",
    "\n",
    "plt.imshow(loss[0,0].detach().numpy())\n",
    "plt.colorbar()\n",
    "\n",
    "print(np.mean(loss[0,0].detach().numpy()))"
   ]
  }
 ],
 "metadata": {
  "kernelspec": {
   "display_name": "Python 3",
   "language": "python",
   "name": "python3"
  },
  "language_info": {
   "codemirror_mode": {
    "name": "ipython",
    "version": 3
   },
   "file_extension": ".py",
   "mimetype": "text/x-python",
   "name": "python",
   "nbconvert_exporter": "python",
   "pygments_lexer": "ipython3",
   "version": "3.8.5"
  }
 },
 "nbformat": 4,
 "nbformat_minor": 2
}
